{
 "cells": [
  {
   "cell_type": "markdown",
   "id": "408f5228",
   "metadata": {},
   "source": [
    "# MLflow example"
   ]
  },
  {
   "cell_type": "markdown",
   "id": "f5a6e9ad",
   "metadata": {},
   "source": [
    "To get started with mlflow, first we need to install mlflow: `pip install mlflow`\n",
    "\n",
    "We then set up our notebook to track key parameters and metrics for each run. See link below for full example:\n",
    "\n",
    "https://www.mlflow.org/docs/latest/tutorials-and-examples/index.html"
   ]
  },
  {
   "cell_type": "markdown",
   "id": "6cc1da42",
   "metadata": {},
   "source": [
    "## Notebook setup"
   ]
  },
  {
   "cell_type": "code",
   "execution_count": 28,
   "id": "09b3af89",
   "metadata": {},
   "outputs": [],
   "source": [
    "import os\n",
    "import warnings\n",
    "import sys\n",
    "\n",
    "import pandas as pd\n",
    "import numpy as np\n",
    "import pickle\n",
    "from sklearn.metrics import mean_squared_error, mean_absolute_error, r2_score\n",
    "from sklearn.model_selection import train_test_split\n",
    "from sklearn.linear_model import ElasticNet\n",
    "from urllib.parse import urlparse\n",
    "import mlflow\n",
    "import mlflow.sklearn\n",
    "\n",
    "import logging"
   ]
  },
  {
   "cell_type": "code",
   "execution_count": 3,
   "id": "e22d3329",
   "metadata": {},
   "outputs": [],
   "source": [
    "logging.basicConfig(level=logging.WARN)\n",
    "logger = logging.getLogger(__name__)"
   ]
  },
  {
   "cell_type": "markdown",
   "id": "da34ea0e",
   "metadata": {},
   "source": [
    "## Helper functions\n",
    "\n",
    "Define functions here"
   ]
  },
  {
   "cell_type": "code",
   "execution_count": 39,
   "id": "048a6150",
   "metadata": {},
   "outputs": [],
   "source": [
    "def eval_metrics(actual, pred):\n",
    "    rmse = np.sqrt(mean_squared_error(actual, pred))\n",
    "    mae = mean_absolute_error(actual, pred)\n",
    "    r2 = r2_score(actual, pred)\n",
    "    return rmse, mae, r2"
   ]
  },
  {
   "cell_type": "markdown",
   "id": "6c42be39",
   "metadata": {},
   "source": [
    "## Read in data"
   ]
  },
  {
   "cell_type": "code",
   "execution_count": 5,
   "id": "0010b6f7",
   "metadata": {},
   "outputs": [],
   "source": [
    "# Read the wine-quality csv file from the URL\n",
    "csv_url = (\n",
    "    \"http://archive.ics.uci.edu/ml/machine-learning-databases/wine-quality/winequality-red.csv\"\n",
    ")\n",
    "try:\n",
    "    data = pd.read_csv(csv_url, sep=\";\")\n",
    "except Exception as e:\n",
    "    logger.exception(\n",
    "        \"Unable to download training & test CSV, check your internet connection. Error: %s\", e\n",
    "    )"
   ]
  },
  {
   "cell_type": "code",
   "execution_count": 38,
   "id": "fbc44569",
   "metadata": {},
   "outputs": [],
   "source": [
    "# Split the data into training and test sets. (0.75, 0.25) split.\n",
    "train, test = train_test_split(data)\n",
    "\n",
    "# The predicted column is \"quality\" which is a scalar from [3, 9]\n",
    "train_x = train.drop([\"quality\"], axis=1)\n",
    "test_x = test.drop([\"quality\"], axis=1)\n",
    "train_y = train[[\"quality\"]]\n",
    "test_y = test[[\"quality\"]]\n",
    "\n",
    "pickle.dump( train_x, open( \"train_x.p\", \"wb\" ) )\n",
    "pickle.dump( train_y, open( \"train_y.p\", \"wb\" ) )\n",
    "pickle.dump( test_x, open( \"test_x.p\", \"wb\" ) )\n",
    "pickle.dump( test_y, open( \"test_y.p\", \"wb\" ) )"
   ]
  },
  {
   "cell_type": "markdown",
   "id": "24dcfce6",
   "metadata": {},
   "source": [
    "## Modelling with MLFlow\n",
    "\n",
    "We will train models and evaluate them, and use MLFlow to keep a record of these models.\n",
    "First, we will initialise a list of run names to be able identify these different runs later - we want to avoid naming multiple experiments with the same run name."
   ]
  },
  {
   "cell_type": "code",
   "execution_count": 51,
   "id": "737289d9",
   "metadata": {},
   "outputs": [],
   "source": [
    "run_name_list = list()"
   ]
  },
  {
   "cell_type": "markdown",
   "id": "5725906d",
   "metadata": {},
   "source": [
    "The cell below has configurations for what parameters will be set / artifcats to be saved from this experiment. This will be a simple example, so few parameters and artifacts will be saved."
   ]
  },
  {
   "cell_type": "code",
   "execution_count": 56,
   "id": "c8a747ff",
   "metadata": {},
   "outputs": [],
   "source": [
    "run_name = \"mlflow-test4\" # name of this experiment\n",
    "\n",
    "# modelling parameters\n",
    "alpha = 0.7\n",
    "l1_ratio = 0.3\n",
    "\n",
    "# run tags\n",
    "tags = {\n",
    "    \"modelling_phase\":\"development\"\n",
    "    ,\"model_type\":\"elasticnet\"\n",
    "}\n",
    "\n",
    "# paths of artifacts to be saved\n",
    "train_x_path = r\"C:\\Users\\skyki\\OneDrive\\Data Science (Learning Materials)\\Python_DataScience_Handbook\\Mlflow Example\\train_x.p\"\n",
    "train_y_path = r\"C:\\Users\\skyki\\OneDrive\\Data Science (Learning Materials)\\Python_DataScience_Handbook\\Mlflow Example\\train_y.p\"\n",
    "test_x_path = r\"C:\\Users\\skyki\\OneDrive\\Data Science (Learning Materials)\\Python_DataScience_Handbook\\Mlflow Example\\test_x.p\"\n",
    "test_y_path = r\"C:\\Users\\skyki\\OneDrive\\Data Science (Learning Materials)\\Python_DataScience_Handbook\\Mlflow Example\\test_y.p\""
   ]
  },
  {
   "cell_type": "markdown",
   "id": "4ca57ffe",
   "metadata": {},
   "source": [
    "### Start experiment\n",
    "\n",
    "Check if the run_name is a new run name. If it exists already, it will prompt to choose a different name."
   ]
  },
  {
   "cell_type": "code",
   "execution_count": 57,
   "id": "4a43b165",
   "metadata": {},
   "outputs": [],
   "source": [
    "if run_name in run_name_list:\n",
    "    print(\"Set a new unique run name!\")\n",
    "else:\n",
    "    run_name_list.append(run_name)\n",
    "    mlflow.start_run(run_name=run_name)"
   ]
  },
  {
   "cell_type": "markdown",
   "id": "12c99b72",
   "metadata": {},
   "source": [
    "Run code below to train model and run through the experiment."
   ]
  },
  {
   "cell_type": "code",
   "execution_count": 60,
   "id": "0d24897a",
   "metadata": {},
   "outputs": [
    {
     "name": "stdout",
     "output_type": "stream",
     "text": [
      "Elasticnet model (alpha=0.700000, l1_ratio=0.300000):\n",
      "  RMSE: 0.7573445868221795\n",
      "  MAE: 0.6078932581456694\n",
      "  R2: 0.1325223156013532\n"
     ]
    }
   ],
   "source": [
    "mlflow.set_tags(tags)\n",
    "mlflow.log_param(\"alpha\", alpha)\n",
    "mlflow.log_param(\"l1_ratio\", l1_ratio)\n",
    "mlflow.log_artifact(train_x_path)\n",
    "mlflow.log_artifact(train_y_path)\n",
    "mlflow.log_artifact(test_x_path)\n",
    "mlflow.log_artifact(test_y_path)\n",
    "\n",
    "lr = ElasticNet(alpha=alpha, l1_ratio=l1_ratio, random_state=42)\n",
    "lr.fit(train_x, train_y)\n",
    "\n",
    "predicted_qualities = lr.predict(test_x)\n",
    "\n",
    "(rmse, mae, r2) = eval_metrics(test_y, predicted_qualities)\n",
    "\n",
    "print(\"Elasticnet model (alpha=%f, l1_ratio=%f):\" % (alpha, l1_ratio))\n",
    "print(\"  RMSE: %s\" % rmse)\n",
    "print(\"  MAE: %s\" % mae)\n",
    "print(\"  R2: %s\" % r2)\n",
    "\n",
    "\n",
    "mlflow.log_metric(\"rmse\", rmse)\n",
    "mlflow.log_metric(\"r2\", r2)\n",
    "mlflow.log_metric(\"mae\", mae)\n",
    "\n",
    "tracking_url_type_store = urlparse(mlflow.get_tracking_uri()).scheme\n",
    "\n",
    "# Model registry does not work with file store\n",
    "if tracking_url_type_store != \"file\":\n",
    "\n",
    "    # Register the model\n",
    "    # There are other ways to use the Model Registry, which depends on the use case,\n",
    "    # please refer to the doc for more information:\n",
    "    # https://mlflow.org/docs/latest/model-registry.html#api-workflow\n",
    "    mlflow.sklearn.log_model(lr, \"model\", registered_model_name=\"ElasticnetWineModel\")\n",
    "else:\n",
    "    mlflow.sklearn.log_model(lr, \"model\")"
   ]
  },
  {
   "cell_type": "markdown",
   "id": "f7d47451",
   "metadata": {},
   "source": [
    "Finally, end the session."
   ]
  },
  {
   "cell_type": "code",
   "execution_count": 59,
   "id": "ce0ea7d5",
   "metadata": {},
   "outputs": [],
   "source": [
    "mlflow.end_run()"
   ]
  },
  {
   "cell_type": "markdown",
   "id": "8909efdf",
   "metadata": {},
   "source": [
    "## Viewing model runs in UI\n",
    "\n",
    "To view the models that have been run, run `mlflow ui` in the terminal."
   ]
  }
 ],
 "metadata": {
  "kernelspec": {
   "display_name": "Python 3 (ipykernel)",
   "language": "python",
   "name": "python3"
  },
  "language_info": {
   "codemirror_mode": {
    "name": "ipython",
    "version": 3
   },
   "file_extension": ".py",
   "mimetype": "text/x-python",
   "name": "python",
   "nbconvert_exporter": "python",
   "pygments_lexer": "ipython3",
   "version": "3.10.5"
  }
 },
 "nbformat": 4,
 "nbformat_minor": 5
}
