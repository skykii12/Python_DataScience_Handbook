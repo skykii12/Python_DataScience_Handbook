{
 "cells": [
  {
   "cell_type": "markdown",
   "metadata": {},
   "source": [
    "# Data Types\n",
    "\n",
    "Data type is how data is categorised. It is important because different operations can be performed depending on the data type.\n",
    "\n",
    "The main data types in python are:\n",
    "\n",
    "- integers\n",
    "- floating-point numbers\n",
    "- string\n",
    "- boolean\n",
    "- lists\n",
    "- sets\n",
    "- tuple\n",
    "- dictionary\n",
    "\n",
    "This is not an exhaustive list, but most of the time you will be working with these.\n",
    "\n",
    "## Numeric (integers and floating-point numbers)\n",
    "\n",
    "Python has implicit data taype conversion. When you add integer and float, Python will set result as float to avoid loss of information. This means we usually do not need to worry about whether the arithmetic is between integers or floats."
   ]
  },
  {
   "cell_type": "code",
   "execution_count": 4,
   "metadata": {},
   "outputs": [
    {
     "name": "stdout",
     "output_type": "stream",
     "text": [
      "var has type: <class 'int'>\n",
      "var has type: <class 'float'>\n"
     ]
    }
   ],
   "source": [
    "# adding two integers\n",
    "var = 1\n",
    "print(\"var has type:\",type(var))\n",
    "var = var + 1.0\n",
    "print(\"var has type:\",type(var))"
   ]
  },
  {
   "cell_type": "markdown",
   "metadata": {},
   "source": [
    "## String"
   ]
  },
  {
   "cell_type": "markdown",
   "metadata": {},
   "source": [
    "Strings are set by enclosing the word in quotation marks."
   ]
  },
  {
   "cell_type": "code",
   "execution_count": 18,
   "metadata": {},
   "outputs": [
    {
     "name": "stdout",
     "output_type": "stream",
     "text": [
      "hello5\n",
      "<class 'str'>\n"
     ]
    }
   ],
   "source": [
    "word = \"hello5\"\n",
    "print(word)\n",
    "print(type(word))"
   ]
  },
  {
   "cell_type": "markdown",
   "metadata": {},
   "source": [
    "Strings and numeric cannot be added, as this operation does not make any sense."
   ]
  },
  {
   "cell_type": "code",
   "execution_count": 19,
   "metadata": {},
   "outputs": [
    {
     "ename": "TypeError",
     "evalue": "can only concatenate str (not \"int\") to str",
     "output_type": "error",
     "traceback": [
      "\u001b[1;31m---------------------------------------------------------------------------\u001b[0m",
      "\u001b[1;31mTypeError\u001b[0m                                 Traceback (most recent call last)",
      "\u001b[1;32m<ipython-input-19-5ca3654d8ffc>\u001b[0m in \u001b[0;36m<module>\u001b[1;34m\u001b[0m\n\u001b[1;32m----> 1\u001b[1;33m \u001b[0mword\u001b[0m \u001b[1;33m+\u001b[0m \u001b[1;36m1\u001b[0m\u001b[1;33m\u001b[0m\u001b[1;33m\u001b[0m\u001b[0m\n\u001b[0m",
      "\u001b[1;31mTypeError\u001b[0m: can only concatenate str (not \"int\") to str"
     ]
    }
   ],
   "source": [
    "word + 1"
   ]
  },
  {
   "cell_type": "markdown",
   "metadata": {},
   "source": [
    "If we want numeric to be treated as a string, we can explicitly cast the integer as a string then add it to the word."
   ]
  },
  {
   "cell_type": "code",
   "execution_count": 20,
   "metadata": {},
   "outputs": [
    {
     "data": {
      "text/plain": [
       "'hello51'"
      ]
     },
     "execution_count": 20,
     "metadata": {},
     "output_type": "execute_result"
    }
   ],
   "source": [
    "word + str(1)"
   ]
  },
  {
   "cell_type": "markdown",
   "metadata": {},
   "source": [
    "String objects have many methods that make them very useful. A comprehensive list can be found here:\n",
    "https://www.programiz.com/python-programming/methods/string\n",
    "\n",
    "For example, we can convert the string to an upper case just by calling the upper() method."
   ]
  },
  {
   "cell_type": "code",
   "execution_count": 21,
   "metadata": {},
   "outputs": [
    {
     "name": "stdout",
     "output_type": "stream",
     "text": [
      "HELLO5\n"
     ]
    }
   ],
   "source": [
    "print(word.upper())"
   ]
  },
  {
   "cell_type": "markdown",
   "metadata": {},
   "source": [
    "## Boolean\n",
    "\n",
    "These are the two constant objects 'True' and 'False', and are used to represent truth statements."
   ]
  },
  {
   "cell_type": "code",
   "execution_count": 6,
   "metadata": {},
   "outputs": [
    {
     "name": "stdout",
     "output_type": "stream",
     "text": [
      "True\n"
     ]
    }
   ],
   "source": [
    "x = 5 # assign 5 to x\n",
    "\n",
    "print(x == 5) # compare x to 5"
   ]
  },
  {
   "cell_type": "code",
   "execution_count": 7,
   "metadata": {},
   "outputs": [
    {
     "name": "stdout",
     "output_type": "stream",
     "text": [
      "False\n"
     ]
    }
   ],
   "source": [
    "print(x == 6) "
   ]
  },
  {
   "cell_type": "markdown",
   "metadata": {},
   "source": [
    "This is useful for conditional statements, covered later.\n",
    "\n",
    "Note: Python treats numeric 0 as False, and 1 as True"
   ]
  },
  {
   "cell_type": "code",
   "execution_count": 8,
   "metadata": {},
   "outputs": [
    {
     "name": "stdout",
     "output_type": "stream",
     "text": [
      "True\n"
     ]
    }
   ],
   "source": [
    "print(True==1)"
   ]
  },
  {
   "cell_type": "markdown",
   "metadata": {},
   "source": [
    "## Collection Data Types (Lists, Sets, Tuple, Dictionary)\n",
    "\n",
    "- List is a collection which is ordered and changeable. Allows duplicate members.\n",
    "- Tuple is a collection which is ordered and unchangeable. Allows duplicate members.\n",
    "- Set is a collection which is unordered and unindexed. No duplicate members.\n",
    "- Dictionary is a collection which is unordered, changeable and indexed. No duplicate members.\n",
    "\n",
    "**Example:**\n",
    "\n",
    "Suppose you are making a shopping list, and you are adding items as you think of them, you might just write them down as you are making your shopping list.\n",
    "\n",
    "### List"
   ]
  },
  {
   "cell_type": "code",
   "execution_count": 12,
   "metadata": {},
   "outputs": [
    {
     "name": "stdout",
     "output_type": "stream",
     "text": [
      "['apple', 'orange', 'milk']\n",
      "['apple', 'orange', 'milk', 'banana']\n",
      "['apple', 'orange', 'milk', 'banana', 'apple']\n"
     ]
    }
   ],
   "source": [
    "# shopping list\n",
    "shopping_list = ['apple','orange','milk']\n",
    "print(shopping_list)\n",
    "\n",
    "# add banana to shopping list\n",
    "shopping_list.append('banana')\n",
    "print(shopping_list)\n",
    "\n",
    "# add another apple to list\n",
    "shopping_list.append('apple')\n",
    "print(shopping_list)"
   ]
  },
  {
   "cell_type": "markdown",
   "metadata": {},
   "source": [
    "### Set\n",
    "\n",
    "Once you've made the list, you realise you wrote apple twice. You don't want to have repeated item on the list. You should use a set instead!"
   ]
  },
  {
   "cell_type": "code",
   "execution_count": 15,
   "metadata": {},
   "outputs": [
    {
     "name": "stdout",
     "output_type": "stream",
     "text": [
      "{'orange', 'milk', 'apple'}\n",
      "{'orange', 'banana', 'milk', 'apple'}\n",
      "{'orange', 'banana', 'milk', 'apple'}\n"
     ]
    }
   ],
   "source": [
    "shopping_set = {'apple','orange','milk'}\n",
    "print(shopping_set)\n",
    "\n",
    "# add banana to shopping list\n",
    "shopping_set.add('banana')\n",
    "print(shopping_set)\n",
    "\n",
    "# add another apple to list\n",
    "shopping_set.add('apple')\n",
    "print(shopping_set)"
   ]
  },
  {
   "cell_type": "markdown",
   "metadata": {},
   "source": [
    "### Dictionary\n",
    "\n",
    "Finally, suppose we want to create a list of shopping items, as well as how many of each item we need to buy. A set will not work since it does not contain duplicates. A list can work, but you would need to look through your whole list, count how many apples is repeated on the list to determine how many apples you need. This is very tedious. Surely it would be better if I could just look up the word 'apple' and see a number next to it for how many apples I want to buy!\n",
    "\n",
    "This is when a dictionary comes in handy."
   ]
  },
  {
   "cell_type": "code",
   "execution_count": 40,
   "metadata": {},
   "outputs": [
    {
     "name": "stdout",
     "output_type": "stream",
     "text": [
      "{'apple': 2, 'banana': 1, 'orange': 3, 'milk': 2}\n"
     ]
    }
   ],
   "source": [
    "# initiliase a dictionary\n",
    "shopping_dict = {}\n",
    "\n",
    "# populate the dictionary\n",
    "shopping_dict['apple'] = 2\n",
    "shopping_dict['banana'] = 1\n",
    "shopping_dict['orange'] = 3\n",
    "shopping_dict['milk'] = 2\n",
    "\n",
    "# print the dictionary\n",
    "print(shopping_dict)"
   ]
  },
  {
   "cell_type": "markdown",
   "metadata": {},
   "source": [
    "Using dictionary jargon, each shopping item in the list is a dictionary 'key', and has a corresponding 'value' attached to it. A dictionary is therefore a collection of key, value pairs. Note that the value doesn't have to be just a number, it can be any object. Values can be strings, lists or even dictionaries (resulting in nested dictionaries).\n",
    "\n",
    "**Dictionary is just a mapping of objects to another set of objects.**\n",
    "\n",
    "We can look up any key and get the corresponding value."
   ]
  },
  {
   "cell_type": "code",
   "execution_count": 41,
   "metadata": {},
   "outputs": [
    {
     "name": "stdout",
     "output_type": "stream",
     "text": [
      "2\n"
     ]
    }
   ],
   "source": [
    "# How many apples do we need to buy?\n",
    "print(shopping_dict['apple'])"
   ]
  },
  {
   "cell_type": "markdown",
   "metadata": {},
   "source": [
    "We can also update the items for each key."
   ]
  },
  {
   "cell_type": "code",
   "execution_count": 42,
   "metadata": {},
   "outputs": [
    {
     "name": "stdout",
     "output_type": "stream",
     "text": [
      "3\n"
     ]
    }
   ],
   "source": [
    "shopping_dict['apple'] = shopping_dict.get('apple') + 1\n",
    "print(shopping_dict['apple'])"
   ]
  },
  {
   "cell_type": "markdown",
   "metadata": {},
   "source": [
    "### Tuple\n",
    "\n",
    "A tuple is similar to a list. They key difference is that it is immutable, meaning it can not be changed after being initalised. You can't add items to a tuple, since it must have a fixed size and items can't be changed."
   ]
  },
  {
   "cell_type": "code",
   "execution_count": 26,
   "metadata": {},
   "outputs": [],
   "source": [
    "tuple_example = ('apple', 1, 'hello')"
   ]
  },
  {
   "cell_type": "code",
   "execution_count": 27,
   "metadata": {},
   "outputs": [
    {
     "data": {
      "text/plain": [
       "'apple'"
      ]
     },
     "execution_count": 27,
     "metadata": {},
     "output_type": "execute_result"
    }
   ],
   "source": [
    "tuple_example[0]"
   ]
  },
  {
   "cell_type": "code",
   "execution_count": 28,
   "metadata": {},
   "outputs": [
    {
     "ename": "TypeError",
     "evalue": "'tuple' object does not support item assignment",
     "output_type": "error",
     "traceback": [
      "\u001b[1;31m---------------------------------------------------------------------------\u001b[0m",
      "\u001b[1;31mTypeError\u001b[0m                                 Traceback (most recent call last)",
      "\u001b[1;32m<ipython-input-28-cfedd7fe6e9a>\u001b[0m in \u001b[0;36m<module>\u001b[1;34m\u001b[0m\n\u001b[1;32m----> 1\u001b[1;33m \u001b[0mtuple_example\u001b[0m\u001b[1;33m[\u001b[0m\u001b[1;36m0\u001b[0m\u001b[1;33m]\u001b[0m \u001b[1;33m=\u001b[0m \u001b[1;34m'banana'\u001b[0m\u001b[1;33m\u001b[0m\u001b[1;33m\u001b[0m\u001b[0m\n\u001b[0m",
      "\u001b[1;31mTypeError\u001b[0m: 'tuple' object does not support item assignment"
     ]
    }
   ],
   "source": [
    "tuple_example[0] = 'banana'"
   ]
  },
  {
   "cell_type": "markdown",
   "metadata": {},
   "source": [
    "Tuples are generally used over lists when position matters. Even though both lists and tuples have 'order', since lists can be changed, it is less predictable. Tuples are also slightly faster to work with, although this is generally immaterial."
   ]
  }
 ],
 "metadata": {
  "kernelspec": {
   "display_name": "Python 3",
   "language": "python",
   "name": "python3"
  },
  "language_info": {
   "codemirror_mode": {
    "name": "ipython",
    "version": 3
   },
   "file_extension": ".py",
   "mimetype": "text/x-python",
   "name": "python",
   "nbconvert_exporter": "python",
   "pygments_lexer": "ipython3",
   "version": "3.7.3"
  }
 },
 "nbformat": 4,
 "nbformat_minor": 2
}
