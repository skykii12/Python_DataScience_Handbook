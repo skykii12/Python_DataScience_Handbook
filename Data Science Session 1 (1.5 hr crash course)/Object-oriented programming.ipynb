{
 "cells": [
  {
   "cell_type": "markdown",
   "metadata": {},
   "source": [
    "# Object-oriented programming\n",
    "\n",
    "Python supports different programming approaches, including object-oriented programming (OOP). It is important to have an idea of what this means as you will come across classes often using Python.\n",
    "\n",
    "To keep it simple, a **class** creates a new type, which has attributes and methods. We can then instantiates objects which have the class type.\n",
    "\n",
    "Simpler terms to understand this would be:\n",
    "- class = set of instructions / blueprint for how to build an object\n",
    "- attribute = characteristic of the class\n",
    "- method = a particular instruction / action that the object can do\n",
    "- object = simply something built according to the class instructions / blueprint"
   ]
  },
  {
   "cell_type": "markdown",
   "metadata": {},
   "source": [
    "## Define a class and its attributes"
   ]
  },
  {
   "cell_type": "code",
   "execution_count": 18,
   "metadata": {},
   "outputs": [],
   "source": [
    "# Define class dog\n",
    "class Dog():\n",
    "    \n",
    "    # attributes of class Dog\n",
    "    def __init__(self, name, gender):\n",
    "        self.name = name\n",
    "        self.gender = gender"
   ]
  },
  {
   "cell_type": "code",
   "execution_count": 19,
   "metadata": {},
   "outputs": [
    {
     "name": "stdout",
     "output_type": "stream",
     "text": [
      "Jeff's dog name is Snoopy\n",
      "Snoopy's gender is M\n"
     ]
    }
   ],
   "source": [
    "# Define an object 'jeff_dog' of class Dog\n",
    "jeff_dog = Dog('Snoopy','M')\n",
    "\n",
    "print(\"Jeff's dog name is\",jeff_dog.name)\n",
    "print(\"Snoopy's gender is\",jeff_dog.gender)"
   ]
  },
  {
   "cell_type": "markdown",
   "metadata": {},
   "source": [
    "## Define methods of a class"
   ]
  },
  {
   "cell_type": "code",
   "execution_count": 6,
   "metadata": {},
   "outputs": [],
   "source": [
    "# Define class dog\n",
    "class Dog():\n",
    "    \n",
    "    # attributes of class Dog\n",
    "    def __init__(self, name, gender):\n",
    "        self.name = name\n",
    "        self.gender = gender\n",
    "    \n",
    "    # define some methods ...\n",
    "    def bark(self):\n",
    "        print(\"Woof!\")\n",
    "        \n",
    "    def get_info(self):\n",
    "        print(\"Dog's name is {} and gender is {}.\".format(self.name, self.gender))\n",
    "        \n",
    "    def set_name(self, new_name):\n",
    "        self.name = new_name\n",
    "        print(\"Dog's name changed to\",self.name)"
   ]
  },
  {
   "cell_type": "code",
   "execution_count": 9,
   "metadata": {},
   "outputs": [
    {
     "name": "stdout",
     "output_type": "stream",
     "text": [
      "Woof!\n"
     ]
    }
   ],
   "source": [
    "jeff_dog = Dog('Snoopy','M')\n",
    "\n",
    "jeff_dog.bark()\n",
    "#jeff_dog.get_info()"
   ]
  },
  {
   "cell_type": "code",
   "execution_count": 22,
   "metadata": {},
   "outputs": [
    {
     "name": "stdout",
     "output_type": "stream",
     "text": [
      "Dog's name changed to Rob\n",
      "Dog's name is Rob and gender is M.\n"
     ]
    }
   ],
   "source": [
    "jeff_dog.set_name(\"Rob\")\n",
    "jeff_dog.get_info()"
   ]
  },
  {
   "cell_type": "markdown",
   "metadata": {},
   "source": [
    "## Why OOP?\n",
    "\n",
    "You may be familiar with procedural and functional programming (where the code moves through a linear set of computational tasks / function calls). Sometimes, OOP makes life easier. There are 4 main advantages:\n",
    "\n",
    "1. Encapsulation - hiding all info into one unit\n",
    "2. Abstraction - hides all but relevant data (e.g. we know how to use coffee machine, don't need to know how to build one!)\n",
    "3. Inheritance - classes can contain other classes, and inherit its attributes and behaviours\n",
    "4. Polymorphism - many objects can be instantiated (with different attributes) from the same one class\n",
    "\n",
    "To summarise, essentially OOP can **reduce the amount of code you need to write, and is flexible!**"
   ]
  },
  {
   "cell_type": "markdown",
   "metadata": {},
   "source": [
    "## Example of inheritance"
   ]
  },
  {
   "cell_type": "code",
   "execution_count": 23,
   "metadata": {},
   "outputs": [],
   "source": [
    "class Polygon:\n",
    "    \n",
    "    def __init__(self, no_of_sides):\n",
    "        self.n = no_of_sides\n",
    "        self.sides = [0 for i in range(no_of_sides)]\n",
    "        \n",
    "    def inputSides(self):\n",
    "        self.sides = [float(input(\"Enter side \"+str(i+1)+\" : \")) for i in range(self.n)]\n",
    "        \n",
    "    def dispSides(self):\n",
    "        for i in range(self.n):\n",
    "            print(\"Side\",i+1,\"is\",self.sides[i])"
   ]
  },
  {
   "cell_type": "code",
   "execution_count": 24,
   "metadata": {},
   "outputs": [],
   "source": [
    "class Triangle(Polygon):\n",
    "    \n",
    "    def __init__(self):\n",
    "        Polygon.__init__(self,3)\n",
    "        \n",
    "    def findArea(self):\n",
    "        a, b, c = self.sides\n",
    "        # calculate the semi-perimeter\n",
    "        s = (a + b + c) / 2\n",
    "        area = (s*(s-a)*(s-b)*(s-c)) ** 0.5\n",
    "        print('The area of the triangle is %0.2f' %area)"
   ]
  },
  {
   "cell_type": "markdown",
   "metadata": {},
   "source": [
    "Here, we have a class Polygon which has certain attributes and methods.\n",
    "\n",
    "A triangle is also a polygon, so it makes sense that attributes and methods applicable to polygons should apply to triangles too! We can define a class Triangle which inherits the properties of the Polygon."
   ]
  },
  {
   "cell_type": "code",
   "execution_count": 8,
   "metadata": {},
   "outputs": [],
   "source": [
    "t = Triangle()"
   ]
  },
  {
   "cell_type": "code",
   "execution_count": 12,
   "metadata": {},
   "outputs": [
    {
     "name": "stdout",
     "output_type": "stream",
     "text": [
      "Enter side 1 : 2\n",
      "Enter side 2 : 2\n",
      "Enter side 3 : 3\n"
     ]
    }
   ],
   "source": [
    "t.inputSides()"
   ]
  },
  {
   "cell_type": "code",
   "execution_count": 13,
   "metadata": {},
   "outputs": [
    {
     "name": "stdout",
     "output_type": "stream",
     "text": [
      "Side 1 is 2.0\n",
      "Side 2 is 2.0\n",
      "Side 3 is 3.0\n"
     ]
    }
   ],
   "source": [
    "t.dispSides()"
   ]
  },
  {
   "cell_type": "code",
   "execution_count": 14,
   "metadata": {},
   "outputs": [
    {
     "name": "stdout",
     "output_type": "stream",
     "text": [
      "The area of the triangle is 1.98\n"
     ]
    }
   ],
   "source": [
    "t.findArea()"
   ]
  }
 ],
 "metadata": {
  "kernelspec": {
   "display_name": "Python 3",
   "language": "python",
   "name": "python3"
  },
  "language_info": {
   "codemirror_mode": {
    "name": "ipython",
    "version": 3
   },
   "file_extension": ".py",
   "mimetype": "text/x-python",
   "name": "python",
   "nbconvert_exporter": "python",
   "pygments_lexer": "ipython3",
   "version": "3.7.3"
  }
 },
 "nbformat": 4,
 "nbformat_minor": 2
}
