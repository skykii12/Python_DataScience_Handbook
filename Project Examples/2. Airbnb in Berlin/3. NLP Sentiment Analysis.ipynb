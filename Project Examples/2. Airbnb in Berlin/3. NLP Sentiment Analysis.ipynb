{
 "cells": [
  {
   "cell_type": "markdown",
   "metadata": {},
   "source": [
    "# Problem 4: NLP Sentiment Analysis"
   ]
  },
  {
   "cell_type": "markdown",
   "metadata": {},
   "source": [
    "In this notebook, we are going to perform sentiment analysis on all the reviews for Berlin listings, to determine if the overall sentiment for each listing is positive or negative. Based off this, we can give each listing a sentiment score, which can be used for any strategic decision by Airbnb to understand concerns of users, or for marketing purposes, where it can help make decisions for what listings to show. If for example the general sentiment is all very high, then Airbnb can conclude that they are able to maintain good customer satisfaction.\n",
    "\n",
    "An immediate complication is that our data is unlabelled. This makes training a NLP model to recognise positive and negative sentiments difficult. To overcome this we will use a library called *textblob*. Linguistic researches have labelled the sentiments of words based on their domain expertise, and we will be leveraging this for our purpose. Each word is labelled in terms of:\n",
    "- polarity: how positive or negative a word is (from -1 to 1, with 1 being the most positive)\n",
    "- subjectivity: how subjective or opinionated a word is (from 0 to 1, with 0 being a fact and 1 being an opinion)\n",
    "\n",
    "The score depends on where the words are in a sentence.\n"
   ]
  },
  {
   "cell_type": "markdown",
   "metadata": {},
   "source": [
    "***\n",
    "We will first import the libraries we need and read in the required files."
   ]
  },
  {
   "cell_type": "code",
   "execution_count": 11,
   "metadata": {},
   "outputs": [],
   "source": [
    "import pandas as pd\n",
    "import numpy as np\n",
    "from textblob import TextBlob\n",
    "from IPython.display import display\n",
    "import matplotlib.pyplot as plt"
   ]
  },
  {
   "cell_type": "code",
   "execution_count": 2,
   "metadata": {},
   "outputs": [],
   "source": [
    "# Assign common path for all the files\n",
    "file_path = '/Users/jeffreylee/Documents/'\n",
    "\n",
    "# Assign path for each csv file\n",
    "file_listings = file_path + 'Berlin_Airbnb_Dataset/listings.csv'\n",
    "file_reviews = file_path + 'Berlin_Airbnb_Dataset/reviews.csv'\n",
    "\n",
    "# Read in all the files into panda dataframes\n",
    "df_listings = pd.read_csv(file_listings)\n",
    "df_reviews = pd.read_csv(file_reviews)"
   ]
  },
  {
   "cell_type": "markdown",
   "metadata": {},
   "source": [
    "We will start by examining what the review data looks like."
   ]
  },
  {
   "cell_type": "code",
   "execution_count": 3,
   "metadata": {},
   "outputs": [
    {
     "data": {
      "text/html": [
       "<div>\n",
       "<style scoped>\n",
       "    .dataframe tbody tr th:only-of-type {\n",
       "        vertical-align: middle;\n",
       "    }\n",
       "\n",
       "    .dataframe tbody tr th {\n",
       "        vertical-align: top;\n",
       "    }\n",
       "\n",
       "    .dataframe thead th {\n",
       "        text-align: right;\n",
       "    }\n",
       "</style>\n",
       "<table border=\"1\" class=\"dataframe\">\n",
       "  <thead>\n",
       "    <tr style=\"text-align: right;\">\n",
       "      <th></th>\n",
       "      <th>listing_id</th>\n",
       "      <th>id</th>\n",
       "      <th>date</th>\n",
       "      <th>reviewer_id</th>\n",
       "      <th>reviewer_name</th>\n",
       "      <th>comments</th>\n",
       "    </tr>\n",
       "  </thead>\n",
       "  <tbody>\n",
       "    <tr>\n",
       "      <th>0</th>\n",
       "      <td>2015</td>\n",
       "      <td>69544350</td>\n",
       "      <td>2016-04-11</td>\n",
       "      <td>7178145</td>\n",
       "      <td>Rahel</td>\n",
       "      <td>Mein Freund und ich hatten gute gemütliche vie...</td>\n",
       "    </tr>\n",
       "    <tr>\n",
       "      <th>1</th>\n",
       "      <td>2015</td>\n",
       "      <td>69990732</td>\n",
       "      <td>2016-04-15</td>\n",
       "      <td>41944715</td>\n",
       "      <td>Hannah</td>\n",
       "      <td>Jan was very friendly and welcoming host! The ...</td>\n",
       "    </tr>\n",
       "    <tr>\n",
       "      <th>2</th>\n",
       "      <td>2015</td>\n",
       "      <td>71605267</td>\n",
       "      <td>2016-04-26</td>\n",
       "      <td>30048708</td>\n",
       "      <td>Victor</td>\n",
       "      <td>Un appartement tres bien situé dans un quartie...</td>\n",
       "    </tr>\n",
       "    <tr>\n",
       "      <th>3</th>\n",
       "      <td>2015</td>\n",
       "      <td>73819566</td>\n",
       "      <td>2016-05-10</td>\n",
       "      <td>63697857</td>\n",
       "      <td>Judy</td>\n",
       "      <td>It is really nice area, food, park, transport ...</td>\n",
       "    </tr>\n",
       "    <tr>\n",
       "      <th>4</th>\n",
       "      <td>2015</td>\n",
       "      <td>74293504</td>\n",
       "      <td>2016-05-14</td>\n",
       "      <td>10414887</td>\n",
       "      <td>Romina</td>\n",
       "      <td>Buena ubicación, el departamento no está orden...</td>\n",
       "    </tr>\n",
       "    <tr>\n",
       "      <th>5</th>\n",
       "      <td>2015</td>\n",
       "      <td>74690922</td>\n",
       "      <td>2016-05-16</td>\n",
       "      <td>39859815</td>\n",
       "      <td>Eil</td>\n",
       "      <td>Jan ist super flexibel und gut zu erreichen, w...</td>\n",
       "    </tr>\n",
       "    <tr>\n",
       "      <th>6</th>\n",
       "      <td>2015</td>\n",
       "      <td>76603178</td>\n",
       "      <td>2016-05-28</td>\n",
       "      <td>29323516</td>\n",
       "      <td>Laurent</td>\n",
       "      <td>We had a very nice stay in Berlin, thanks to J...</td>\n",
       "    </tr>\n",
       "    <tr>\n",
       "      <th>7</th>\n",
       "      <td>2015</td>\n",
       "      <td>77296201</td>\n",
       "      <td>2016-05-31</td>\n",
       "      <td>9025122</td>\n",
       "      <td>Rasmus</td>\n",
       "      <td>Great location close to Mauerpark, Kastanienal...</td>\n",
       "    </tr>\n",
       "    <tr>\n",
       "      <th>8</th>\n",
       "      <td>2015</td>\n",
       "      <td>77834906</td>\n",
       "      <td>2016-06-03</td>\n",
       "      <td>39244464</td>\n",
       "      <td>Sabine</td>\n",
       "      <td>Perfekte Lage, perfekte Ausstattung, perfekter...</td>\n",
       "    </tr>\n",
       "    <tr>\n",
       "      <th>9</th>\n",
       "      <td>2015</td>\n",
       "      <td>82322683</td>\n",
       "      <td>2016-06-27</td>\n",
       "      <td>73902920</td>\n",
       "      <td>Mag</td>\n",
       "      <td>Apartment very well located, close to everythi...</td>\n",
       "    </tr>\n",
       "  </tbody>\n",
       "</table>\n",
       "</div>"
      ],
      "text/plain": [
       "   listing_id        id        date  reviewer_id reviewer_name  \\\n",
       "0        2015  69544350  2016-04-11      7178145         Rahel   \n",
       "1        2015  69990732  2016-04-15     41944715        Hannah   \n",
       "2        2015  71605267  2016-04-26     30048708        Victor   \n",
       "3        2015  73819566  2016-05-10     63697857          Judy   \n",
       "4        2015  74293504  2016-05-14     10414887        Romina   \n",
       "5        2015  74690922  2016-05-16     39859815           Eil   \n",
       "6        2015  76603178  2016-05-28     29323516       Laurent   \n",
       "7        2015  77296201  2016-05-31      9025122        Rasmus   \n",
       "8        2015  77834906  2016-06-03     39244464        Sabine   \n",
       "9        2015  82322683  2016-06-27     73902920           Mag   \n",
       "\n",
       "                                            comments  \n",
       "0  Mein Freund und ich hatten gute gemütliche vie...  \n",
       "1  Jan was very friendly and welcoming host! The ...  \n",
       "2  Un appartement tres bien situé dans un quartie...  \n",
       "3  It is really nice area, food, park, transport ...  \n",
       "4  Buena ubicación, el departamento no está orden...  \n",
       "5  Jan ist super flexibel und gut zu erreichen, w...  \n",
       "6  We had a very nice stay in Berlin, thanks to J...  \n",
       "7  Great location close to Mauerpark, Kastanienal...  \n",
       "8  Perfekte Lage, perfekte Ausstattung, perfekter...  \n",
       "9  Apartment very well located, close to everythi...  "
      ]
     },
     "metadata": {},
     "output_type": "display_data"
    }
   ],
   "source": [
    "display(df_reviews.head(10))"
   ]
  },
  {
   "cell_type": "markdown",
   "metadata": {},
   "source": [
    "For each of these comments, we will use TextBlob to determine the polarity and subjectivity."
   ]
  },
  {
   "cell_type": "code",
   "execution_count": 4,
   "metadata": {},
   "outputs": [],
   "source": [
    "def polarity_calc(text):\n",
    "    try:\n",
    "        return TextBlob(text).sentiment.polarity\n",
    "    except:\n",
    "        return None\n",
    "\n",
    "def subjectivity_calc(text):\n",
    "    try:\n",
    "        return TextBlob(text).sentiment.subjectivity\n",
    "    except:\n",
    "        return None\n",
    "\n",
    "df_reviews['polarity'] = df_reviews['comments'].apply(polarity_calc)\n",
    "df_reviews['subjectivity'] = df_reviews['comments'].apply(subjectivity_calc)"
   ]
  },
  {
   "cell_type": "markdown",
   "metadata": {},
   "source": [
    "We will then group by listing, and determine the average polarity and subjectivity for each."
   ]
  },
  {
   "cell_type": "code",
   "execution_count": 5,
   "metadata": {},
   "outputs": [],
   "source": [
    "# Group by id, and determine total income, and number of days the property was rented out\n",
    "df_reviews_g = df_reviews.groupby(\n",
    "    ['listing_id'] # group by listing_id\n",
    ").agg(\n",
    "    {\n",
    "        'polarity':['mean'], # average polarity for a listing\n",
    "        'subjectivity':['mean'], # average subjectivity for a listing\n",
    "        'id':['count'] # total number of reviews\n",
    "    }\n",
    ")\n",
    "df_reviews_g.columns = df_reviews_g.columns.droplevel(1) # drop multi-level"
   ]
  },
  {
   "cell_type": "code",
   "execution_count": 9,
   "metadata": {},
   "outputs": [
    {
     "data": {
      "text/html": [
       "<div>\n",
       "<style scoped>\n",
       "    .dataframe tbody tr th:only-of-type {\n",
       "        vertical-align: middle;\n",
       "    }\n",
       "\n",
       "    .dataframe tbody tr th {\n",
       "        vertical-align: top;\n",
       "    }\n",
       "\n",
       "    .dataframe thead th {\n",
       "        text-align: right;\n",
       "    }\n",
       "</style>\n",
       "<table border=\"1\" class=\"dataframe\">\n",
       "  <thead>\n",
       "    <tr style=\"text-align: right;\">\n",
       "      <th></th>\n",
       "      <th>polarity</th>\n",
       "      <th>subjectivity</th>\n",
       "      <th>id</th>\n",
       "    </tr>\n",
       "    <tr>\n",
       "      <th>listing_id</th>\n",
       "      <th></th>\n",
       "      <th></th>\n",
       "      <th></th>\n",
       "    </tr>\n",
       "  </thead>\n",
       "  <tbody>\n",
       "    <tr>\n",
       "      <th>2015</th>\n",
       "      <td>0.353835</td>\n",
       "      <td>0.488118</td>\n",
       "      <td>118</td>\n",
       "    </tr>\n",
       "    <tr>\n",
       "      <th>2695</th>\n",
       "      <td>0.391583</td>\n",
       "      <td>0.667454</td>\n",
       "      <td>6</td>\n",
       "    </tr>\n",
       "    <tr>\n",
       "      <th>3176</th>\n",
       "      <td>0.381437</td>\n",
       "      <td>0.563021</td>\n",
       "      <td>143</td>\n",
       "    </tr>\n",
       "    <tr>\n",
       "      <th>3309</th>\n",
       "      <td>0.316826</td>\n",
       "      <td>0.461974</td>\n",
       "      <td>25</td>\n",
       "    </tr>\n",
       "    <tr>\n",
       "      <th>7071</th>\n",
       "      <td>0.392842</td>\n",
       "      <td>0.572338</td>\n",
       "      <td>197</td>\n",
       "    </tr>\n",
       "    <tr>\n",
       "      <th>9991</th>\n",
       "      <td>0.385756</td>\n",
       "      <td>0.481595</td>\n",
       "      <td>6</td>\n",
       "    </tr>\n",
       "    <tr>\n",
       "      <th>14325</th>\n",
       "      <td>0.375830</td>\n",
       "      <td>0.550222</td>\n",
       "      <td>23</td>\n",
       "    </tr>\n",
       "    <tr>\n",
       "      <th>16644</th>\n",
       "      <td>0.369184</td>\n",
       "      <td>0.559013</td>\n",
       "      <td>48</td>\n",
       "    </tr>\n",
       "    <tr>\n",
       "      <th>17409</th>\n",
       "      <td>0.315920</td>\n",
       "      <td>0.553724</td>\n",
       "      <td>279</td>\n",
       "    </tr>\n",
       "    <tr>\n",
       "      <th>17904</th>\n",
       "      <td>0.378365</td>\n",
       "      <td>0.562009</td>\n",
       "      <td>223</td>\n",
       "    </tr>\n",
       "  </tbody>\n",
       "</table>\n",
       "</div>"
      ],
      "text/plain": [
       "            polarity  subjectivity   id\n",
       "listing_id                             \n",
       "2015        0.353835      0.488118  118\n",
       "2695        0.391583      0.667454    6\n",
       "3176        0.381437      0.563021  143\n",
       "3309        0.316826      0.461974   25\n",
       "7071        0.392842      0.572338  197\n",
       "9991        0.385756      0.481595    6\n",
       "14325       0.375830      0.550222   23\n",
       "16644       0.369184      0.559013   48\n",
       "17409       0.315920      0.553724  279\n",
       "17904       0.378365      0.562009  223"
      ]
     },
     "execution_count": 9,
     "metadata": {},
     "output_type": "execute_result"
    }
   ],
   "source": [
    "df_reviews_g.head(10)"
   ]
  },
  {
   "cell_type": "markdown",
   "metadata": {},
   "source": [
    "Finally, we will plot the polarity and subjectivity on a histogram to visualise the distribution."
   ]
  },
  {
   "cell_type": "code",
   "execution_count": 15,
   "metadata": {},
   "outputs": [
    {
     "data": {
      "image/png": "[encoded data removed]",
      "text/plain": [
       "<Figure size 432x288 with 1 Axes>"
      ]
     },
     "metadata": {
      "needs_background": "light"
     },
     "output_type": "display_data"
    }
   ],
   "source": [
    "# Plot histogram of polarity\n",
    "binwidth = 0.1\n",
    "plt.hist(df_reviews_g['polarity'],\n",
    "         color='skyblue',\n",
    "         lw=1,\n",
    "         ec='gray',\n",
    "         alpha=0.5,\n",
    "         bins=np.arange(min(df_reviews_g['polarity']),\n",
    "                   max(df_reviews_g['polarity']) + binwidth, binwidth))\n",
    "plt.title('Histogram of Polarity')\n",
    "plt.xlabel('Polarity')\n",
    "plt.ylabel('Count of listings');"
   ]
  },
  {
   "cell_type": "markdown",
   "metadata": {},
   "source": [
    "The polarity is nearly all above 0, with a relative normal distribution between 0 and 1. This indicates that nearly all reviews are overall positive. This is a good sign for Airbnb, since they want users to be satisfied."
   ]
  },
  {
   "cell_type": "code",
   "execution_count": 16,
   "metadata": {},
   "outputs": [
    {
     "data": {
      "image/png": "[encoded data removed]",
      "text/plain": [
       "<Figure size 432x288 with 1 Axes>"
      ]
     },
     "metadata": {
      "needs_background": "light"
     },
     "output_type": "display_data"
    }
   ],
   "source": [
    "# Plot histogram of subjectivity\n",
    "binwidth = 0.1\n",
    "plt.hist(df_reviews_g['subjectivity'],\n",
    "         color='skyblue',\n",
    "         lw=1,\n",
    "         ec='gray',\n",
    "         alpha=0.5,\n",
    "         bins=np.arange(min(df_reviews_g['subjectivity']),\n",
    "                   max(df_reviews_g['subjectivity']) + binwidth, binwidth))\n",
    "plt.title('Histogram of Subjectivity')\n",
    "plt.xlabel('Subjectivity')\n",
    "plt.ylabel('Count of listings');"
   ]
  },
  {
   "cell_type": "markdown",
   "metadata": {},
   "source": [
    "Looking at the subjectivity, we can see that it is quite normally distributed as well. This indicates that most reviews are a mixture of fact and opinion."
   ]
  },
  {
   "cell_type": "markdown",
   "metadata": {},
   "source": [
    "***\n",
    "\n",
    "We will examine one final additional analysis.\n",
    "\n",
    "**Is there any correlation between average review sentiment and number of reviews?**\n",
    "\n",
    "We will plot a scatter plot of polarity against review count, and subjectivity and review count."
   ]
  },
  {
   "cell_type": "code",
   "execution_count": 18,
   "metadata": {},
   "outputs": [
    {
     "data": {
      "image/png": "[encoded data removed]",
      "text/plain": [
       "<Figure size 432x288 with 1 Axes>"
      ]
     },
     "metadata": {
      "needs_background": "light"
     },
     "output_type": "display_data"
    }
   ],
   "source": [
    "# Draw the scatter plot\n",
    "xData = df_reviews_g['polarity']\n",
    "yData = df_reviews_g['id']\n",
    "\n",
    "plt.scatter(xData, yData)\n",
    "plt.title('Scatterplot of polarity and review count')\n",
    "plt.xlabel('Polarity')\n",
    "plt.ylabel('Number of reviews')\n",
    "plt.show()"
   ]
  },
  {
   "cell_type": "markdown",
   "metadata": {},
   "source": [
    "We can see that there are actually no listings with many reviews that have an average polarity that is very low. This is good news, since it implies that the listings with bad reviews could be just due to one bad review. However it is also likely that bad reviews for a listing would naturally result in very few users, and therefore low number of reviews."
   ]
  },
  {
   "cell_type": "code",
   "execution_count": 20,
   "metadata": {},
   "outputs": [
    {
     "data": {
      "image/png": "[encoded data removed]",
      "text/plain": [
       "<Figure size 432x288 with 1 Axes>"
      ]
     },
     "metadata": {
      "needs_background": "light"
     },
     "output_type": "display_data"
    }
   ],
   "source": [
    "# Draw the scatter plot\n",
    "xData = df_reviews_g['subjectivity']\n",
    "yData = df_reviews_g['id']\n",
    "\n",
    "plt.scatter(xData, yData)\n",
    "plt.title('Scatterplot of subjectivity and review count')\n",
    "plt.xlabel('Subjectivity')\n",
    "plt.ylabel('Number of reviews')\n",
    "plt.show()"
   ]
  },
  {
   "cell_type": "markdown",
   "metadata": {},
   "source": [
    "We see that all listings with many reviews have subjectivity around the middle (0.5). This is not suprising, as those with a subjectivity 0 and 1 are likely short reviews, and as number of reviews increases, it is likely to move away from the two extremes."
   ]
  }
 ],
 "metadata": {
  "kernelspec": {
   "display_name": "Python 3",
   "language": "python",
   "name": "python3"
  },
  "language_info": {
   "codemirror_mode": {
    "name": "ipython",
    "version": 3
   },
   "file_extension": ".py",
   "mimetype": "text/x-python",
   "name": "python",
   "nbconvert_exporter": "python",
   "pygments_lexer": "ipython3",
   "version": "3.7.3"
  }
 },
 "nbformat": 4,
 "nbformat_minor": 2
}