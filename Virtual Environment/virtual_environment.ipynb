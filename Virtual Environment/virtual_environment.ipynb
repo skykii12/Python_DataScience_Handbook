{
 "cells": [
  {
   "cell_type": "markdown",
   "metadata": {},
   "source": [
    "# Virtual Environment\n",
    "\n",
    "### What is a virtual environment?\n",
    "\n",
    "A virtual environment is an isolated environment for Python projects. The environment will have its own version of Python running (rather than the system-wide version). Any packages installed in this virtual environment will then be accessible in this virtual environment only, and likewise, the virtual environment will not have access to packages installed outside the environment. This allows us to keep projects clean with packages installed relevant to the project. Additionally and more importantly, we can avoid conflicting versions of packages being installed as we can have different versions of a package for each virtual environment without affecting one another.\n",
    "\n",
    "It also makes it easier to work together on a project. Just sending a python script may cause many library errors, as everyone's system-wide libraries look different. Using a virtual environment, we can share a state of the environment with others, who can then install the exact same versions of libraries in their own virtual environment."
   ]
  },
  {
   "cell_type": "markdown",
   "metadata": {},
   "source": [
    "### Setting up a virtual environment\n",
    "\n",
    "In Python >=3.3, the virtualenv library is part of the Python standard library, so no installation is required. To start up a virtual environment, simply type the following into the command line (at the location where you want to create the virtual environment)."
   ]
  },
  {
   "cell_type": "code",
   "execution_count": null,
   "metadata": {},
   "outputs": [],
   "source": [
    "python3 -m venv myenv"
   ]
  },
  {
   "cell_type": "markdown",
   "metadata": {},
   "source": [
    "The command will create a new folder at your current location, named as whatever the argument is passed (in this case, myenv). To go into your virtual environment, you will then need to move into your newly created folder and activate the environment."
   ]
  },
  {
   "cell_type": "code",
   "execution_count": null,
   "metadata": {},
   "outputs": [],
   "source": [
    "cd myenv"
   ]
  },
  {
   "cell_type": "markdown",
   "metadata": {},
   "source": [
    "Activate virtual environment in Windows:"
   ]
  },
  {
   "cell_type": "code",
   "execution_count": null,
   "metadata": {},
   "outputs": [],
   "source": [
    "Scripts\\activate"
   ]
  },
  {
   "cell_type": "markdown",
   "metadata": {},
   "source": [
    "Activate virtual environment in Linux:"
   ]
  },
  {
   "cell_type": "code",
   "execution_count": null,
   "metadata": {},
   "outputs": [],
   "source": [
    "source bin/activate"
   ]
  },
  {
   "cell_type": "markdown",
   "metadata": {},
   "source": [
    "You are now in your virtual environment! It is that simple. To exit this environment, simply type:"
   ]
  },
  {
   "cell_type": "code",
   "execution_count": null,
   "metadata": {},
   "outputs": [],
   "source": [
    "deactivate"
   ]
  },
  {
   "cell_type": "markdown",
   "metadata": {},
   "source": [
    "To delete the virtual environment, you can just delete the folder.\n"
   ]
  },
  {
   "cell_type": "markdown",
   "metadata": {},
   "source": [
    "### Sharing a virtual environment\n",
    "\n",
    "It is easy to share all the libraries that have been installed in your virtual environment. To write to a file all the libraries used in the virtual environment, we can use the following command."
   ]
  },
  {
   "cell_type": "code",
   "execution_count": null,
   "metadata": {},
   "outputs": [],
   "source": [
    "pip freeze > requirements.txt"
   ]
  },
  {
   "cell_type": "markdown",
   "metadata": {},
   "source": [
    "This will save the state of the virtual environment packages installed, and write them to a text file 'requirements.txt'. This text file can then be shared with others. To install all the packages in the 'requirements.txt', simply use the following command:"
   ]
  },
  {
   "cell_type": "code",
   "execution_count": null,
   "metadata": {},
   "outputs": [],
   "source": [
    "pip3 install -r requirements.txt"
   ]
  },
  {
   "cell_type": "markdown",
   "metadata": {},
   "source": [
    "### Selecting virtual environments in different IDES\n",
    "\n",
    "**Jupyter Notebooks / Jupyter Lab**\n",
    "\n",
    "Virtual environments must manually be added in Jupyter notebooks. First you would activate the virtual environment as above, then install ipykernel as below:"
   ]
  },
  {
   "cell_type": "code",
   "execution_count": null,
   "metadata": {},
   "outputs": [],
   "source": [
    "pip install --user ipykernel"
   ]
  },
  {
   "cell_type": "markdown",
   "metadata": {},
   "source": [
    "Finally, you would add your virtual environment (in this case named 'myenv') as below:"
   ]
  },
  {
   "cell_type": "code",
   "execution_count": null,
   "metadata": {},
   "outputs": [],
   "source": [
    "python -m ipykernel install --user --name=myenv"
   ]
  },
  {
   "cell_type": "markdown",
   "metadata": {},
   "source": [
    "![jupyter_kernel_example](jupyter_kernel_example.png)"
   ]
  },
  {
   "cell_type": "markdown",
   "metadata": {},
   "source": [
    "**VSCode**\n",
    "\n",
    "VSCode is very simple (assuming you have Python extension installed). Simply open up the control pallete (Ctrl + Shift + P), type 'python: select interpreter' and choose the appropriate kernel from the drop down."
   ]
  },
  {
   "cell_type": "markdown",
   "metadata": {},
   "source": [
    "![vscode_kernel_example](vscode_kernel_example.png)"
   ]
  },
  {
   "cell_type": "code",
   "execution_count": null,
   "metadata": {},
   "outputs": [],
   "source": []
  }
 ],
 "metadata": {
  "kernelspec": {
   "display_name": "Python 3",
   "language": "python",
   "name": "python3"
  },
  "language_info": {
   "codemirror_mode": {
    "name": "ipython",
    "version": 3
   },
   "file_extension": ".py",
   "mimetype": "text/x-python",
   "name": "python",
   "nbconvert_exporter": "python",
   "pygments_lexer": "ipython3",
   "version": "3.7.6"
  }
 },
 "nbformat": 4,
 "nbformat_minor": 4
}
