{
 "metadata": {
  "language_info": {
   "codemirror_mode": {
    "name": "ipython",
    "version": 3
   },
   "file_extension": ".py",
   "mimetype": "text/x-python",
   "name": "python",
   "nbconvert_exporter": "python",
   "pygments_lexer": "ipython3",
   "version": "3.7.6-final"
  },
  "orig_nbformat": 2,
  "kernelspec": {
   "name": "python3",
   "display_name": "Python 3"
  }
 },
 "nbformat": 4,
 "nbformat_minor": 2,
 "cells": [
  {
   "source": [
    "# Tutorial for using git"
   ],
   "cell_type": "markdown",
   "metadata": {}
  },
  {
   "source": [
    "## 1. Initial set up\n",
    "Set up your name and email. We want git to know this everytime we start a new git project, so we must edit the global .gitconfig file. This is like under C:\\Users\\.gitconfig. However, we can just type the following to set it up instead of finding this file and editing it."
   ],
   "cell_type": "markdown",
   "metadata": {}
  },
  {
   "cell_type": "code",
   "execution_count": null,
   "metadata": {},
   "outputs": [],
   "source": [
    "git config --global user.name 'My_Name'\n",
    "git config --global user.email 'email@address.com'\n",
    "git config --global color.ui 'auto'"
   ]
  },
  {
   "source": [
    "## 2. Starting a new git repo\n",
    "A repository is essentially a folder. What then is a git repository? This is simply a repository (or folder) that contains a .git file. When a folder has this file, you will be able to use all the git commands to do git things.\n",
    "\n",
    "There are two main ways to create a git repository:\n",
    "- Initiate a git respository within existing folder\n",
    "- Copy an existing git repository (e.g. from github)"
   ],
   "cell_type": "markdown",
   "metadata": {}
  },
  {
   "cell_type": "code",
   "execution_count": null,
   "metadata": {},
   "outputs": [],
   "source": [
    "# initiate a git repo within existing folder\n",
    "git init"
   ]
  },
  {
   "cell_type": "code",
   "execution_count": null,
   "metadata": {},
   "outputs": [],
   "source": [
    "# clone or copy a github repo\n",
    "git clone [address]"
   ]
  },
  {
   "source": [
    "## 3. Basic git workflow\n",
    "The basic steps in git are:\n",
    "- Make changes\n",
    "- Stage changes (decide which changes you want to 'save')\n",
    "- Commit changes ('Save' the changes you have staged)\n",
    "\n",
    "### Stage changes\n",
    "If you want to stage specific files, you can type:"
   ],
   "cell_type": "markdown",
   "metadata": {}
  },
  {
   "cell_type": "code",
   "execution_count": null,
   "metadata": {},
   "outputs": [],
   "source": [
    "# Stage change\n",
    "git add [files to stage]"
   ]
  },
  {
   "source": [
    "If you want to stage all changes, just type:"
   ],
   "cell_type": "markdown",
   "metadata": {}
  },
  {
   "cell_type": "code",
   "execution_count": null,
   "metadata": {},
   "outputs": [],
   "source": [
    "git add ."
   ]
  },
  {
   "source": [
    "### Commit changes\n",
    "If you want to commit your changes, you can type:\n",
    "(Note, you should add a message to each commit. This should be very short and describe what changes were made.)"
   ],
   "cell_type": "markdown",
   "metadata": {}
  },
  {
   "cell_type": "code",
   "execution_count": null,
   "metadata": {},
   "outputs": [],
   "source": [
    "git commit -m \"[message]\""
   ]
  },
  {
   "source": [
    "## 4. Branches\n",
    "\n",
    "To be covered"
   ],
   "cell_type": "markdown",
   "metadata": {}
  },
  {
   "source": [
    "## 5. Workflow for collaborating\n",
    "Typically when we use git, we want to collaborate with others. Usually this involves cloning a remote repository. At this point, you will want to make some changes / contribute to the project. A typical workflow might look like:\n",
    "- clone remote repository\n",
    "- create new branch locally OR switch to existing branch\n",
    "- make changes / develop code\n",
    "- stage / commit changes locally\n",
    "    - if new branch push changes to remote\n",
    "    - if existing remote branch, pull from remote to update local with other changes, then push back to remote\n",
    "\n",
    "The git commands look like:"
   ],
   "cell_type": "markdown",
   "metadata": {}
  },
  {
   "cell_type": "code",
   "execution_count": null,
   "metadata": {},
   "outputs": [],
   "source": [
    "# use case 1: creating new local branch\n",
    "git checkout -b new_branch\n",
    "# make changes\n",
    "git add .\n",
    "git commit -m \"made some changes\"\n",
    "git push -u origin new_branch \n",
    "\n",
    "# use case 2: working on existing remote branch\n",
    "git checkout --track origin/old_branch\n",
    "# make changes\n",
    "git add .\n",
    "git commit -m \"made some changes\"\n",
    "git pull origin old_branch\n",
    "# resolve any conflicts\n",
    "git push origin old_branch"
   ]
  },
  {
   "source": [
    "## 6. Branches - Local vs Remote\n",
    "\n",
    "### Local branch track remote branch\n",
    "\n",
    "Suppose a remote branch already exists (someone might have created a new remote branch). If you want to copy this branch to your local so you can contribute, you would:"
   ],
   "cell_type": "markdown",
   "metadata": {}
  },
  {
   "cell_type": "code",
   "execution_count": null,
   "metadata": {},
   "outputs": [],
   "source": [
    "git checkout --track origin/[branch name]"
   ]
  },
  {
   "source": [
    "If instead you created a local branch, and now want to push this branch so that it is on remote, you would:"
   ],
   "cell_type": "markdown",
   "metadata": {}
  },
  {
   "cell_type": "code",
   "execution_count": null,
   "metadata": {},
   "outputs": [],
   "source": [
    "git push -u origin [branch name]"
   ]
  },
  {
   "source": [
    "If you want to set a local branch to track a remote branch at anytime, you can type:"
   ],
   "cell_type": "markdown",
   "metadata": {}
  },
  {
   "cell_type": "code",
   "execution_count": null,
   "metadata": {},
   "outputs": [],
   "source": [
    "git branch -u origin/[branch name]"
   ]
  },
  {
   "source": [
    "## 7. Pulling in changes from remote to local"
   ],
   "cell_type": "markdown",
   "metadata": {}
  },
  {
   "cell_type": "code",
   "execution_count": null,
   "metadata": {},
   "outputs": [],
   "source": []
  }
 ]
}