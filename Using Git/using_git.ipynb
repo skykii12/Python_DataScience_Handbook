{
 "metadata": {
  "language_info": {
   "codemirror_mode": {
    "name": "ipython",
    "version": 3
   },
   "file_extension": ".py",
   "mimetype": "text/x-python",
   "name": "python",
   "nbconvert_exporter": "python",
   "pygments_lexer": "ipython3",
   "version": "3.7.6-final"
  },
  "orig_nbformat": 2,
  "kernelspec": {
   "name": "python3",
   "display_name": "Python 3"
  }
 },
 "nbformat": 4,
 "nbformat_minor": 2,
 "cells": [
  {
   "source": [
    "# Tutorial for using git"
   ],
   "cell_type": "markdown",
   "metadata": {}
  },
  {
   "source": [
    "## Initial set up\n",
    "Set up your name and email. We want git to know this everytime we start a new git project, so we must edit the global .gitconfig file. This is like under C:\\Users\\.gitconfig. However, we can just type the following to set it up instead of finding this file and editing it."
   ],
   "cell_type": "markdown",
   "metadata": {}
  },
  {
   "cell_type": "code",
   "execution_count": null,
   "metadata": {},
   "outputs": [],
   "source": [
    "git config --global user.name 'My_Name'\n",
    "git config --global user.email 'email@address.com'\n",
    "git config --global color.ui 'auto'"
   ]
  },
  {
   "source": [
    "## Starting a new git repo\n",
    "A repository is essentially a folder. What then is a git repository? This is simply a repository (or folder) that contains a .git file. When a folder has this file, you will be able to use all the git commands to do git things.\n",
    "\n",
    "There are two main ways to create a git repository:\n",
    "- Initiate a git respository within existing folder\n",
    "- Copy an existing git repository (e.g. from github)"
   ],
   "cell_type": "markdown",
   "metadata": {}
  },
  {
   "cell_type": "code",
   "execution_count": null,
   "metadata": {},
   "outputs": [],
   "source": [
    "# initiate a git repo within existing folder\n",
    "git init"
   ]
  },
  {
   "cell_type": "code",
   "execution_count": null,
   "metadata": {},
   "outputs": [],
   "source": [
    "# clone or copy a github repo\n",
    "git clone [address]"
   ]
  },
  {
   "source": [
    "## Basic git workflow\n",
    "The basic steps in git are:\n",
    "- Make changes\n",
    "- Stage changes (decide which changes you want to 'save')\n",
    "- Commit changes ('Save' the changes you have staged)\n",
    "\n",
    "### Stage changes\n",
    "If you want to stage specific files, you can type:"
   ],
   "cell_type": "markdown",
   "metadata": {}
  },
  {
   "cell_type": "code",
   "execution_count": null,
   "metadata": {},
   "outputs": [],
   "source": [
    "# Stage change\n",
    "git add [files to stage]"
   ]
  },
  {
   "source": [
    "If you want to stage all changes, just type:"
   ],
   "cell_type": "markdown",
   "metadata": {}
  },
  {
   "cell_type": "code",
   "execution_count": null,
   "metadata": {},
   "outputs": [],
   "source": [
    "git add ."
   ]
  },
  {
   "source": [
    "### Commit changes\n",
    "If you want to commit your changes, you can type:\n",
    "(Note, you should add a message to each commit. This should be very short and describe what changes were made.)"
   ],
   "cell_type": "markdown",
   "metadata": {}
  },
  {
   "cell_type": "code",
   "execution_count": null,
   "metadata": {},
   "outputs": [],
   "source": [
    "git commit -m \"[message]\""
   ]
  },
  {
   "source": [
    "## Branches\n",
    "\n",
    "To be covered"
   ],
   "cell_type": "markdown",
   "metadata": {}
  },
  {
   "source": [
    "## Connecting to Remote\n",
    "\n",
    "Typically when we use git, we want to collaborate with others. When you do a 'git clone', you have copied a remote repository. Some common tasks will be covered here."
   ],
   "cell_type": "markdown",
   "metadata": {}
  },
  {
   "source": [
    "### Local branch track remote branch\n",
    "\n",
    "Suppose a remote branch already exists (someone might have created a new remote branch). If you want to copy this branch to your local so you can contribute, you would:"
   ],
   "cell_type": "markdown",
   "metadata": {}
  },
  {
   "cell_type": "code",
   "execution_count": null,
   "metadata": {},
   "outputs": [],
   "source": [
    "git checkout --track origin/[branch name]"
   ]
  },
  {
   "source": [
    "If instead you created a local branch, and now want to push this branch so that it is on remote, you would:"
   ],
   "cell_type": "markdown",
   "metadata": {}
  },
  {
   "cell_type": "code",
   "execution_count": null,
   "metadata": {},
   "outputs": [],
   "source": [
    "git push -u origin [branch name]"
   ]
  },
  {
   "source": [
    "If you want to set a local branch to track a remote branch at anytime, you can type:"
   ],
   "cell_type": "markdown",
   "metadata": {}
  },
  {
   "cell_type": "code",
   "execution_count": null,
   "metadata": {},
   "outputs": [],
   "source": [
    "git branch -u origin/[branch name]"
   ]
  }
 ]
}