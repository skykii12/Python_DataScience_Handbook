{
 "metadata": {
  "language_info": {
   "codemirror_mode": {
    "name": "ipython",
    "version": 3
   },
   "file_extension": ".py",
   "mimetype": "text/x-python",
   "name": "python",
   "nbconvert_exporter": "python",
   "pygments_lexer": "ipython3",
   "version": "3.7.6-final"
  },
  "orig_nbformat": 2,
  "kernelspec": {
   "name": "python3",
   "display_name": "Python 3"
  }
 },
 "nbformat": 4,
 "nbformat_minor": 2,
 "cells": [
  {
   "source": [
    "# Tutorial for using git"
   ],
   "cell_type": "markdown",
   "metadata": {}
  },
  {
   "source": [
    "## 1. Initial set up\n",
    "Set up your name and email. We want git to know this everytime we start a new git project, so we must edit the global .gitconfig file. This is like under C:\\Users\\.gitconfig. However, we can just type the following to set it up instead of finding this file and editing it."
   ],
   "cell_type": "markdown",
   "metadata": {}
  },
  {
   "cell_type": "code",
   "execution_count": null,
   "metadata": {},
   "outputs": [],
   "source": [
    "git config --global user.name 'My_Name'\n",
    "git config --global user.email 'email@address.com'\n",
    "git config --global color.ui 'auto'"
   ]
  },
  {
   "source": [
    "## 2. Starting a new git repo\n",
    "A repository is essentially a folder. What then is a git repository? This is simply a repository (or folder) that contains a .git file. When a folder has this file, you will be able to use all the git commands to do git things.\n",
    "\n",
    "There are two main ways to create a git repository:\n",
    "- Initiate a git respository within existing folder\n",
    "- Copy an existing git repository (e.g. from github)"
   ],
   "cell_type": "markdown",
   "metadata": {}
  },
  {
   "cell_type": "code",
   "execution_count": null,
   "metadata": {},
   "outputs": [],
   "source": [
    "# initiate a git repo within existing folder\n",
    "git init"
   ]
  },
  {
   "cell_type": "code",
   "execution_count": null,
   "metadata": {},
   "outputs": [],
   "source": [
    "# clone or copy a github repo\n",
    "git clone [address]"
   ]
  },
  {
   "source": [
    "## 3. Basic git workflow\n",
    "The basic steps in git are:\n",
    "- Make changes\n",
    "- Stage changes (decide which changes you want to 'save')\n",
    "- Commit changes ('Save' the changes you have staged)\n",
    "\n",
    "### Stage changes\n",
    "If you want to stage specific files, you can type:"
   ],
   "cell_type": "markdown",
   "metadata": {}
  },
  {
   "cell_type": "code",
   "execution_count": null,
   "metadata": {},
   "outputs": [],
   "source": [
    "# Stage change\n",
    "git add [files to stage]"
   ]
  },
  {
   "source": [
    "If you want to stage all changes, just type:"
   ],
   "cell_type": "markdown",
   "metadata": {}
  },
  {
   "cell_type": "code",
   "execution_count": null,
   "metadata": {},
   "outputs": [],
   "source": [
    "git add ."
   ]
  },
  {
   "source": [
    "### Commit changes\n",
    "If you want to commit your changes, you can type:\n",
    "(Note, you should add a message to each commit. This should be very short and describe what changes were made.)"
   ],
   "cell_type": "markdown",
   "metadata": {}
  },
  {
   "cell_type": "code",
   "execution_count": null,
   "metadata": {},
   "outputs": [],
   "source": [
    "git commit -m \"[message]\""
   ]
  },
  {
   "source": [
    "## 4. Branches\n",
    "\n",
    "To be covered"
   ],
   "cell_type": "markdown",
   "metadata": {}
  },
  {
   "source": [
    "## 5. Roll back commits\n",
    "Suppose you've made some commits, but now you want to remove some of the latest commits. This can happen when you've realised the changes you committed are not good etc. You can reset the head back to a past commit. To be clear, there are different ways to reset this head.\n",
    "\n",
    "Consider the commits below:\n",
    "\n",
    "A--B--C (master)\n",
    "\n",
    "Here, master is pointing to C. Suppose also we have some local changes made that have not been committed.\n",
    "There are 3 ways to go back to commit B.\n",
    "- reset soft to B: If we do this, our HEAD now points to B, but the changes we've staged (but not committed) will still be there. If we did a git commit now, we would be back to C\n",
    "- reset mixed to B: If we do this, our HEAD points to B, and the index also. This means git status will show nothing has been staged. However, our working directory is untouched, and will still have the changes made.\n",
    "- reset hard to B: If we do this, our HEAd points to B as well as index, and our working directory also reverts to what it was at B. All non-committed changes in local are lost forever.\n",
    "\n",
    "The correct reset depends on use case. If you simply want to 'uncommit' the commits, but keep everything else the same in terms of working directory and what is staged, use soft.\n",
    "If you want to uncommit but also revert what has been staged, you would reset mixed.\n",
    "If you don't want any changes you've made in last commits, and want to fully start over, reset hard."
   ],
   "cell_type": "markdown",
   "metadata": {}
  },
  {
   "cell_type": "code",
   "execution_count": null,
   "metadata": {},
   "outputs": [],
   "source": [
    "git log --pretty=oneline # see history of \n",
    "\n",
    "# reset depending on use case\n",
    "git reset --soft <SHA1sum of commit N>\n",
    "git reset --mixed <SHA1sum of commit N>\n",
    "git reset --hard <SHA1sum of commit N>"
   ]
  },
  {
   "source": [
    "## 6. Stash commits (saving a messy state)\n",
    "\n",
    "Sometimes, you've made some changes in a branch that are still work in progress, and you are not ready to commit the changes. However, you might want to move to another branch to do some other work. To not lose the changes you have made in your working directory, you can take a snapshot of this messy state, and save them. You working directory will then revert back to a clean state at the previous commit, allowing you to change branches etc.\n",
    "\n",
    "The messy state is stashed away, and can then be reapplied later. You can stash on different branches, in which case you will have a list of stashed changes which can be reapplied later. Note that you can reapply the stashed changes to any branch (although typically you would do it to the same branch).\n",
    "\n",
    "Note that by default, only tracked changes are stashed, untracked changes are not. However you can specify options to keep them all.\n",
    "\n",
    "The commands for these are below:"
   ],
   "cell_type": "markdown",
   "metadata": {}
  },
  {
   "cell_type": "code",
   "execution_count": null,
   "metadata": {},
   "outputs": [],
   "source": [
    "git stash # stash the tracked changes -- working directory will be clean\n",
    "git stash list # list of all stored stashes\n",
    "git stash apply # apply the most recently stored stash to current branch, only changes working directory, no files are staged\n",
    "git stash apply --index # same as apply but staged files when stashed are restaged\n",
    "git stash apply stash@{2} # apply stash in list at index 2\n",
    "git stash drop stash@{0} # drop stash in list at index 0\n",
    "git stash -u # stash away both tracked and untracked changes\n",
    "git stash -a # stash away ALL changes, including those in ignored file"
   ]
  },
  {
   "source": [
    "Some more specific use cases:\n",
    "- Suppose you git stash on a branch, make changes to the same branch and then try to reapply stashed changes. You may get merge conflicts which stop you applying the change. If you simply want to apply the stashed changes to the branch at the time before making the additional changes, you can make a new branch with the stashed changes applied."
   ],
   "cell_type": "markdown",
   "metadata": {}
  },
  {
   "cell_type": "code",
   "execution_count": null,
   "metadata": {},
   "outputs": [],
   "source": [
    "git stash branch testchanges"
   ]
  },
  {
   "source": [
    "## 7. Workflow for collaborating\n",
    "Typically when we use git, we want to collaborate with others. Usually this involves cloning a remote repository. At this point, you will want to make some changes / contribute to the project. A typical workflow might look like:\n",
    "- clone remote repository\n",
    "- create new branch locally OR switch to existing branch\n",
    "- make changes / develop code\n",
    "- stage / commit changes locally\n",
    "    - if new branch push changes to remote\n",
    "    - if existing remote branch, pull from remote to update local with other changes, then push back to remote\n",
    "\n",
    "The git commands look like:"
   ],
   "cell_type": "markdown",
   "metadata": {}
  },
  {
   "cell_type": "code",
   "execution_count": null,
   "metadata": {},
   "outputs": [],
   "source": [
    "# use case 1: creating new local branch\n",
    "git checkout -b new_branch\n",
    "# make changes\n",
    "git add .\n",
    "git commit -m \"made some changes\"\n",
    "git push -u origin new_branch \n",
    "\n",
    "# use case 2: working on existing remote branch\n",
    "git checkout --track origin/old_branch\n",
    "# make changes\n",
    "git add .\n",
    "git commit -m \"made some changes\"\n",
    "git pull origin old_branch\n",
    "# resolve any conflicts\n",
    "git push origin old_branch"
   ]
  },
  {
   "source": [
    "## 8. Branches - Local vs Remote\n",
    "\n",
    "### Local branch track remote branch\n",
    "\n",
    "Suppose a remote branch already exists (someone might have created a new remote branch). If you want to copy this branch to your local so you can contribute, you would:"
   ],
   "cell_type": "markdown",
   "metadata": {}
  },
  {
   "cell_type": "code",
   "execution_count": null,
   "metadata": {},
   "outputs": [],
   "source": [
    "git checkout --track origin/[branch name]"
   ]
  },
  {
   "source": [
    "If instead you created a local branch, and now want to push this branch so that it is on remote, you would:"
   ],
   "cell_type": "markdown",
   "metadata": {}
  },
  {
   "cell_type": "code",
   "execution_count": null,
   "metadata": {},
   "outputs": [],
   "source": [
    "git push -u origin [branch name]"
   ]
  },
  {
   "source": [
    "If you want to set a local branch to track a remote branch at anytime, you can type:"
   ],
   "cell_type": "markdown",
   "metadata": {}
  },
  {
   "cell_type": "code",
   "execution_count": null,
   "metadata": {},
   "outputs": [],
   "source": [
    "git branch -u origin/[branch name]"
   ]
  },
  {
   "source": [
    "## 9. Fetching from remote\n",
    "\n",
    "When working collaboratively, often there will be changes made to the remote repo. If you want to get the latest changes and download to your local repo, one way is to use git fetch to fetch changes from remote. This is a safe operation, as it does not affect you local working directories in any way, and only updates your remote branches with the latest changes. Once you have fetched these changes, you can then do many things, including:\n",
    "- changing to the remote branch and reviewing the changes made\n",
    "- merging the changes to your local branch\n",
    "- creating a new local branch that copies the fetched remote branch\n",
    "\n",
    "Example of commands for fetching:"
   ],
   "cell_type": "markdown",
   "metadata": {}
  },
  {
   "cell_type": "code",
   "execution_count": null,
   "metadata": {},
   "outputs": [],
   "source": [
    "git fetch [remote] # fetches all branches from remote repo. Typically remote repo is origin\n",
    "git fetch [remote] [branch] # fetch the specified branch in the remote repo\n",
    "git fetch -all # fetches all branches from all registered remote repos\n",
    "git fetch --dry-run # perform demo run of the command"
   ]
  },
  {
   "source": [
    "Example use case is to checkout to the remote branch after fetching to see if the changes made are acceptable. Note that doing this will result in a detached HEAD state, meaning that your working directory and your HEAD are not aligned. Any changes, commits etc. here will not be tracked properly, essentially this is a read only state. If you want to actually develop on this branch, you should create a local branch from the fetched remote, so that HEAD will be aligned."
   ],
   "cell_type": "markdown",
   "metadata": {}
  },
  {
   "cell_type": "code",
   "execution_count": null,
   "metadata": {},
   "outputs": [],
   "source": [
    "# may be helpful to 'git branch -a' to list all branches\n",
    "git checkout [remote branch] # move to fetched remote\n",
    "git checkout -b [local feature branch] # make a local branch from this remote"
   ]
  },
  {
   "source": [
    "To merge the fetched remote branch to local branch, after reviewing changes to make sure happy with changes, simply merge them. This combination of fetch + merge is the same as doing a 'git pull [remote branch]'"
   ],
   "cell_type": "markdown",
   "metadata": {}
  },
  {
   "cell_type": "code",
   "execution_count": null,
   "metadata": {},
   "outputs": [],
   "source": [
    "git merge [remote branch]"
   ]
  },
  {
   "source": [
    "## 10. Resolving conflicts\n",
    "\n",
    "When attempting to merge/pull/rebase a remote branch to a local branch, you may encounter conflicts. This is when there are changes made in remote and your local which are compatible. Examples include:\n",
    "\n",
    "- you both made changes to the same line in a file. Git doesn't know which line to keep.\n",
    "- someone deleted a file that you have been modifying\n",
    "- you have deleted a file that someone else has been modifying\n",
    "- you both added a file with the same name\n",
    "\n",
    "When trying to merge, if conflict, git will say there are unmerged paths and you must resolve them. First thing to do is to understand what the conflicts are using 'git status'. This will show which files have conflict issues.\n",
    "\n",
    "**Changes to same file**\n",
    "\n",
    "For changes affecting the same file, git will add markers to indicate where the conflict occurs. The conflict is enclosed in a \"<<<<<<< HEAD\" and \">>>>>>> [other/branch/name]\", and the differences are separated by a line \"=======\" (where the local comes first, then the remote). You then need to go to this file and resolve the conflict. Once you have finished editing this conflict, you can let git know by staging it, using 'git add [filename]'.\n",
    "\n",
    "Alternatively, if you just want to keep one of the files (i.e. just want the remote version of the file and discard local, or vice versa), you can do this easily as well.\n",
    "\n",
    "**Deleted in one and edited in another**\n",
    "\n",
    "If a file has been deleted locally but has been modified in remote, you must either:\n",
    "- decide to keep the file as deleted when merging\n",
    "- decide to keep the modified file in remote, possibly making additional changes\n",
    "\n",
    "**Both added a file with the same name**\n",
    "\n",
    "Similar to changes to same file, need to reconcile, or just just choose one of them.\n",
    "\n",
    "**Other edges cases**\n",
    "\n",
    "- sometimes the file has been moved, so if a file seems like it disappeared make sure it hasn't just been moved\n",
    "\n",
    "Commands for these use cases are:\n"
   ],
   "cell_type": "markdown",
   "metadata": {}
  },
  {
   "cell_type": "code",
   "execution_count": null,
   "metadata": {},
   "outputs": [],
   "source": [
    "# Use case 1: changes to same file - merge files\n",
    "# first go in and resolve each conflict, marked by header\n",
    "git add [filename]\n",
    "git commit -m \"change made\"\n",
    "\n",
    "# Use case 2: changes to same file - you just want to keep one of them\n",
    "'''We have to be careful here as our and theirs depend on point of view. We will consider the 2 different cases, merges and rebases.'''\n",
    "'''=======MERGE======'''\n",
    "# merge feature into master\n",
    "git checkout master\n",
    "git merge feature # note that if pulling in remote to local, then the local is master, remote is feature\n",
    "\n",
    "git checkout --ours [filename] # keep just the file in master\n",
    "git checkout --theirs [filename] # keep just the file in the feature branch\n",
    "\n",
    "git add [filename]\n",
    "git commit -m \"change made\"\n",
    "\n",
    "'''=======REBASE====='''\n",
    "git checkout feature\n",
    "git rebase master # note that if rebasing the remote to local, then the local is feature, remote is master\n",
    "\n",
    "git checkout --ours [filename] # keep just the file in master\n",
    "git checkout --theirs [filename] # keep just the file in the feature branch\n",
    "\n",
    "git add [filename]\n",
    "git commit -m \"change made\"\n",
    "\n",
    "# Use case 3: deleted and edited file (choose either delete or add)\n",
    "git rm [filename] # if decide to delete\n",
    "git add [filename] # if decide to add file\n",
    "git commit -m \"change made\""
   ]
  }
 ]
}