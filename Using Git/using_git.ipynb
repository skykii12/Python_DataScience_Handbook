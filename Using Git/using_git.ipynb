{
 "metadata": {
  "language_info": {
   "codemirror_mode": {
    "name": "ipython",
    "version": 3
   },
   "file_extension": ".py",
   "mimetype": "text/x-python",
   "name": "python",
   "nbconvert_exporter": "python",
   "pygments_lexer": "ipython3",
   "version": "3.7.6-final"
  },
  "orig_nbformat": 2,
  "kernelspec": {
   "name": "python3",
   "display_name": "Python 3"
  }
 },
 "nbformat": 4,
 "nbformat_minor": 2,
 "cells": [
  {
   "source": [
    "# Tutorial for using git"
   ],
   "cell_type": "markdown",
   "metadata": {}
  },
  {
   "source": [
    "## 1. Initial set up\n",
    "Set up your name and email. We want git to know this everytime we start a new git project, so we must edit the global .gitconfig file. This is likely under C:\\Users\\.gitconfig. However, we can just type the following to set it up instead of finding this file and editing it."
   ],
   "cell_type": "markdown",
   "metadata": {}
  },
  {
   "cell_type": "code",
   "execution_count": null,
   "metadata": {},
   "outputs": [],
   "source": [
    "git config --global user.name 'My_Name'\n",
    "git config --global user.email 'email@address.com'\n",
    "git config --global color.ui 'auto'"
   ]
  },
  {
   "source": [
    "## 2. Starting a new git repo\n",
    "A repository is essentially a folder. What then is a git repository? This is simply a repository (or folder) that contains a .git file. When a folder has this file, you will be able to use all the git commands to do git things.\n",
    "\n",
    "There are two main ways to create a git repository:\n",
    "- Initiate a git respository within existing folder\n",
    "- Copy an existing git repository (e.g. from github)"
   ],
   "cell_type": "markdown",
   "metadata": {}
  },
  {
   "cell_type": "code",
   "execution_count": null,
   "metadata": {},
   "outputs": [],
   "source": [
    "# initiate a git repo within existing folder\n",
    "git init"
   ]
  },
  {
   "cell_type": "code",
   "execution_count": null,
   "metadata": {},
   "outputs": [],
   "source": [
    "# clone or copy a github repo\n",
    "git clone [address]"
   ]
  },
  {
   "source": [
    "## 3. Basic git workflow\n",
    "The basic steps in git are:\n",
    "- Make changes\n",
    "- Stage changes (decide which changes you want to 'save')\n",
    "- Commit changes ('Save' the changes you have staged)\n",
    "\n",
    "### Stage changes\n",
    "If you want to stage specific files, you can type:"
   ],
   "cell_type": "markdown",
   "metadata": {}
  },
  {
   "cell_type": "code",
   "execution_count": null,
   "metadata": {},
   "outputs": [],
   "source": [
    "# Stage change\n",
    "git add [files to stage]"
   ]
  },
  {
   "source": [
    "If you want to stage all changes, just type:"
   ],
   "cell_type": "markdown",
   "metadata": {}
  },
  {
   "cell_type": "code",
   "execution_count": null,
   "metadata": {},
   "outputs": [],
   "source": [
    "git add ."
   ]
  },
  {
   "source": [
    "### Commit changes\n",
    "If you want to commit your changes, you can type:\n",
    "(Note, you should add a message to each commit. This should be very short and describe what changes were made.)"
   ],
   "cell_type": "markdown",
   "metadata": {}
  },
  {
   "cell_type": "code",
   "execution_count": null,
   "metadata": {},
   "outputs": [],
   "source": [
    "git commit -m \"[message]\""
   ]
  },
  {
   "source": [
    "## 4. Branches\n",
    "\n",
    "A branch represents an independent line of development. It is a good idea to create a new branch when working on a new feature. It is an abstraction of the edit, staging and committing process.\n",
    "\n",
    "To list all branches, or rename a branch:"
   ],
   "cell_type": "markdown",
   "metadata": {}
  },
  {
   "cell_type": "code",
   "execution_count": null,
   "metadata": {},
   "outputs": [],
   "source": [
    "git branch -all # list all branches, inncluding remote\n",
    "git branch -m [new name] # renames whatever branch you are on with new name"
   ]
  },
  {
   "source": [
    "To create a new branch and move to other branches:"
   ],
   "cell_type": "markdown",
   "metadata": {}
  },
  {
   "source": [
    "git branch [new branch] # create new branch called 'new_branch\n",
    "git checkout [new branch] # switch to new branch\n",
    "git checkout [master] # switch back to master\n",
    "\n",
    "# alternatively can:\n",
    "git checkout -b [new branch] # creates new branch and switches to it"
   ],
   "cell_type": "code",
   "metadata": {},
   "execution_count": null,
   "outputs": []
  },
  {
   "source": [
    "To delete branches, locally and remotely:"
   ],
   "cell_type": "markdown",
   "metadata": {}
  },
  {
   "cell_type": "code",
   "execution_count": null,
   "metadata": {},
   "outputs": [],
   "source": [
    "git branch -d [branch to delete] # delete local branch (use -D to delete branch even when it has unmerged changes)\n",
    "git push -d origin [remote branch name] # delete remote branch"
   ]
  },
  {
   "source": [
    "## 5. Roll back commits\n",
    "Suppose you've made some commits, but now you want to remove some of the latest commits. This can happen when you've realised the changes you committed are not good etc. You can reset the head back to a past commit. To be clear, there are different ways to reset this head.\n",
    "\n",
    "Consider the commits below:\n",
    "\n",
    "A--B--C (master)\n",
    "\n",
    "Here, master is pointing to C. Suppose also we have some local changes made that have not been committed.\n",
    "There are 3 ways to go back to commit B.\n",
    "- reset soft to B: If we do this, our HEAD now points to B, but the changes we've staged (but not committed) will still be there. If we did a git commit now, we would be back to C\n",
    "- reset mixed to B: If we do this, our HEAD points to B, and the index also. This means git status will show nothing has been staged. However, our working directory is untouched, and will still have the changes made.\n",
    "- reset hard to B: If we do this, our HEAd points to B as well as index, and our working directory also reverts to what it was at B. All non-committed changes in local are lost forever.\n",
    "\n",
    "The correct reset depends on use case. If you simply want to 'uncommit' the commits, but keep everything else the same in terms of working directory and what is staged, use soft.\n",
    "If you want to uncommit but also revert what has been staged, you would reset mixed.\n",
    "If you don't want any changes you've made in last commits, and want to fully start over, reset hard."
   ],
   "cell_type": "markdown",
   "metadata": {}
  },
  {
   "cell_type": "code",
   "execution_count": null,
   "metadata": {},
   "outputs": [],
   "source": [
    "git log --pretty=oneline # see history of \n",
    "\n",
    "# reset depending on use case\n",
    "git reset --soft <SHA1sum of commit N>\n",
    "git reset --mixed <SHA1sum of commit N>\n",
    "git reset --hard <SHA1sum of commit N>"
   ]
  },
  {
   "source": [
    "## 6. Stash commits (saving a messy state)\n",
    "\n",
    "Sometimes, you've made some changes in a branch that are still work in progress, and you are not ready to commit the changes. However, you might want to move to another branch to do some other work. To not lose the changes you have made in your working directory, you can take a snapshot of this messy state, and save them. You working directory will then revert back to a clean state at the previous commit, allowing you to change branches etc.\n",
    "\n",
    "The messy state is stashed away, and can then be reapplied later. You can stash on different branches, in which case you will have a list of stashed changes which can be reapplied later. Note that you can reapply the stashed changes to any branch (although typically you would do it to the same branch).\n",
    "\n",
    "Note that by default, only tracked changes are stashed, untracked changes are not. However you can specify options to keep them all.\n",
    "\n",
    "The commands for these are below:"
   ],
   "cell_type": "markdown",
   "metadata": {}
  },
  {
   "cell_type": "code",
   "execution_count": null,
   "metadata": {},
   "outputs": [],
   "source": [
    "git stash # stash the tracked changes -- working directory will be clean\n",
    "git stash list # list of all stored stashes\n",
    "git stash apply # apply the most recently stored stash to current branch, only changes working directory, no files are staged\n",
    "git stash apply --index # same as apply but staged files when stashed are restaged\n",
    "git stash apply stash@{2} # apply stash in list at index 2\n",
    "git stash drop stash@{0} # drop stash in list at index 0\n",
    "git stash -u # stash away both tracked and untracked changes\n",
    "git stash -a # stash away ALL changes, including those in ignored file"
   ]
  },
  {
   "source": [
    "Some more specific use cases:\n",
    "- Suppose you git stash on a branch, make changes to the same branch and then try to reapply stashed changes. You may get merge conflicts which stop you applying the change. If you simply want to apply the stashed changes to the branch at the time before making the additional changes, you can make a new branch with the stashed changes applied."
   ],
   "cell_type": "markdown",
   "metadata": {}
  },
  {
   "cell_type": "code",
   "execution_count": null,
   "metadata": {},
   "outputs": [],
   "source": [
    "git stash branch testchanges"
   ]
  },
  {
   "source": [
    "## 7. Workflow for collaborating\n",
    "Typically when we use git, we want to collaborate with others. Usually this involves cloning a remote repository. At this point, you will want to make some changes / contribute to the project. A typical workflow might look like:\n",
    "- clone remote repository\n",
    "- create new branch locally OR switch to existing branch\n",
    "- make changes / develop code\n",
    "- stage / commit changes locally\n",
    "    - if new branch push changes to remote\n",
    "    - if existing remote branch, pull from remote to update local with other changes, then push back to remote\n",
    "\n",
    "The git commands look like:"
   ],
   "cell_type": "markdown",
   "metadata": {}
  },
  {
   "cell_type": "code",
   "execution_count": null,
   "metadata": {},
   "outputs": [],
   "source": [
    "# use case 1: creating new local branch\n",
    "git checkout -b new_branch\n",
    "# make changes\n",
    "git add .\n",
    "git commit -m \"made some changes\"\n",
    "git push -u origin new_branch \n",
    "\n",
    "# use case 2: working on existing remote branch\n",
    "git checkout --track origin/old_branch\n",
    "# make changes\n",
    "git add .\n",
    "git commit -m \"made some changes\"\n",
    "git pull origin old_branch\n",
    "# resolve any conflicts\n",
    "git push origin old_branch"
   ]
  },
  {
   "source": [
    "## 8. Branches - Local vs Remote\n",
    "\n",
    "Git branch commands work on remote branches too. In order to operate on remote branches, a remote repo must first be configured and added to the local repo config."
   ],
   "cell_type": "markdown",
   "metadata": {}
  },
  {
   "cell_type": "code",
   "execution_count": null,
   "metadata": {},
   "outputs": [],
   "source": [
    "git remote add [remote_repo_name] [https://....] # e.g. git remote origin https://github.com/user/repo.git"
   ]
  },
  {
   "source": [
    "Suppose a remote branch already exists (someone might have created a new remote branch). If you want to copy this branch to your local so you can contribute, you would:"
   ],
   "cell_type": "markdown",
   "metadata": {}
  },
  {
   "cell_type": "code",
   "execution_count": null,
   "metadata": {},
   "outputs": [],
   "source": [
    "git checkout --track origin/[branch name] # creates a branch locally with name specified as branch name\n",
    "git checkout -b mybranch origin/[branch name] # creates a branch locally called mybranch, based off remote branch 'branch name'"
   ]
  },
  {
   "source": [
    "If instead you created a local branch, and now want to push this branch so that it is on remote, you would:"
   ],
   "cell_type": "markdown",
   "metadata": {}
  },
  {
   "cell_type": "code",
   "execution_count": null,
   "metadata": {},
   "outputs": [],
   "source": [
    "git push -u origin [branch name]"
   ]
  },
  {
   "source": [
    "If you want to set a local branch to track a remote branch at anytime, you can type:"
   ],
   "cell_type": "markdown",
   "metadata": {}
  },
  {
   "cell_type": "code",
   "execution_count": null,
   "metadata": {},
   "outputs": [],
   "source": [
    "git branch -u origin/[branch name]"
   ]
  },
  {
   "source": [
    "## 9. Fetching from remote\n",
    "\n",
    "When working collaboratively, often there will be changes made to the remote repo. If you want to get the latest changes and download to your local repo, one way is to use git fetch to fetch changes from remote. This is a safe operation, as it does not affect you local working directories in any way, and only updates your remote branches with the latest changes. Once you have fetched these changes, you can then do many things, including:\n",
    "- changing to the remote branch and reviewing the changes made\n",
    "- merging the changes to your local branch\n",
    "- creating a new local branch that copies the fetched remote branch\n",
    "\n",
    "Example of commands for fetching:"
   ],
   "cell_type": "markdown",
   "metadata": {}
  },
  {
   "cell_type": "code",
   "execution_count": null,
   "metadata": {},
   "outputs": [],
   "source": [
    "git fetch [remote] # fetches all branches from remote repo. Typically remote repo is origin\n",
    "git fetch [remote] [branch] # fetch the specified branch in the remote repo\n",
    "git fetch -all # fetches all branches from all registered remote repos\n",
    "git fetch --dry-run # perform demo run of the command"
   ]
  },
  {
   "source": [
    "Example use case is to checkout to the remote branch after fetching to see if the changes made are acceptable. Note that doing this will result in a detached HEAD state, meaning that your working directory and your HEAD are not aligned. Any changes, commits etc. here will not be tracked properly, essentially this is a read only state. If you want to actually develop on this branch, you should create a local branch from the fetched remote, so that HEAD will be aligned."
   ],
   "cell_type": "markdown",
   "metadata": {}
  },
  {
   "cell_type": "code",
   "execution_count": null,
   "metadata": {},
   "outputs": [],
   "source": [
    "# may be helpful to 'git branch -a' to list all branches\n",
    "git checkout [remote branch] # move to fetched remote\n",
    "git checkout -b [local feature branch] # make a local branch from this remote"
   ]
  },
  {
   "source": [
    "To merge the fetched remote branch to local branch, after reviewing changes to make sure happy with changes, simply merge them. This combination of fetch + merge is the same as doing a 'git pull [remote branch]'"
   ],
   "cell_type": "markdown",
   "metadata": {}
  },
  {
   "cell_type": "code",
   "execution_count": null,
   "metadata": {},
   "outputs": [],
   "source": [
    "git merge [remote branch]"
   ]
  },
  {
   "source": [
    "## 10. Merging\n",
    "\n",
    "Merging is how git puts a forked (diverged) history back together again. See details here: https://www.atlassian.com/git/tutorials/using-branches/git-merge\n",
    "Suppose you have developed a feature on branch 'feature' and want to merge this back on master.\n",
    "\n",
    "**Case 1: No changes on master since working on feature**\n",
    "\n",
    "This is a simple case, where there hasn't really been any divergence at all. You can simply do a merge (called fast-forward in this case, since it just moves pointer ahead), and your master will just have a linear history."
   ],
   "cell_type": "markdown",
   "metadata": {}
  },
  {
   "cell_type": "code",
   "execution_count": null,
   "metadata": {},
   "outputs": [],
   "source": [
    "git checkout master\n",
    "git merge feature"
   ]
  },
  {
   "source": [
    "**Case 2: Chages on master while working on feature branch**\n",
    "\n",
    "In this case, the master branch has diverged from feature branch. This is a 3-way merge, and the history will show the two lines of development being joined together at time of merge. The commands to merge are the same, however there are two potential scenarios:\n",
    "- no conflicts, in which case merge is simple\n",
    "- conflicts, need to resolve conflict before completing merge, see 'Resolving conflicts' section"
   ],
   "cell_type": "markdown",
   "metadata": {}
  },
  {
   "cell_type": "code",
   "execution_count": null,
   "metadata": {},
   "outputs": [],
   "source": [
    "# simple merge case\n",
    "git checkout master\n",
    "git merge feature\n",
    "\n",
    "# if conflict, resolve conflict!\n",
    "# make changes\n",
    "git add [file changes]\n",
    "git commit -m \"commiting merge changes\"\n",
    "git merge --continue\n",
    "\n",
    "# if conflict and want to abort merge\n",
    "git merge --abort"
   ]
  },
  {
   "source": [
    "## 11. Rebasing\n",
    "\n",
    "Rebase is another way to integrate changes from one branch into another. It moves or combines a sequences of commits to a new base commit. Suppose you have been working on a feature branch forked from master, however the master branch has had additional commits since then. Rather than doing a 3-way merge as before, we can do a rebase. What this does is it will apply our commits / changes on top of the updated master branch. Of course doing so may result in conflicts each time it tries to apply a commit, so these will need to be resolved. The reason for doing a rebase is to maintain a linear history. After a rebase, it will appear as if a fast-forward merge has taken place, instead of having superfluous merge commits.\n",
    "\n",
    "Example:\n",
    "(master)         A-B-C-D\n",
    "(feature_branch) A-B-C-E-F\n",
    "After git rebase origin/master : A-B-C-D-E-F\n",
    "\n",
    "A simple use case is shown below:"
   ],
   "cell_type": "markdown",
   "metadata": {}
  },
  {
   "cell_type": "code",
   "execution_count": null,
   "metadata": {},
   "outputs": [],
   "source": [
    "# Example 1: Pull in latest changes from master to feature branch\n",
    "git fetch origin master # get latest updates from master\n",
    "git checkout feature_branch # ensure on feature_branch locally\n",
    "git rebase origin/master # apply latest commits onto master from remote, then attempt to apply your commits\n",
    "\n",
    "# Example 2: Pull in latest changes from feature_branch on remote to local (assuming not just you working on this branch)\n",
    "git fetch origin feature_branch\n",
    "git checkout feature_branch\n",
    "git rebase origin/feature_branch"
   ]
  },
  {
   "source": [
    "**Dangers of rebasing**\n",
    "\n",
    "You may often hear people say that rebasing can be dangerous. A simple rule is \"Do not rebase commits that exist outside your repository and that people may have based work on.\" See link below:\n",
    "\n",
    "https://git-scm.com/book/en/v2/Git-Branching-Rebasing\n",
    "\n",
    "Quote from link: If you only ever rebase commits that have never left your own computer, you’ll be just fine. If you rebase commits that have been pushed, but that no one else has based commits from, you’ll also be fine. If you rebase commits that have already been pushed publicly, and people may have based work on those commits, then you may be in for some frustrating trouble, and the scorn of your teammates."
   ],
   "cell_type": "markdown",
   "metadata": {}
  },
  {
   "source": [
    "## 12. Resolving conflicts\n",
    "\n",
    "When attempting to merge/pull/rebase a feature branch to a master branch (or remote to local etc.), you may encounter conflicts. This is when there are changes made which are incompatible. Examples include:\n",
    "\n",
    "(phrased from perspective of remote vs local, however applies to feature and master locally too)\n",
    "- you both made changes to the same line in a file. Git doesn't know which line to keep.\n",
    "- someone deleted a file that you have been modifying\n",
    "- you have deleted a file that someone else has been modifying\n",
    "- you both added a file with the same name\n",
    "\n",
    "When trying to merge, if conflict, git will say there are unmerged paths and you must resolve them. First thing to do is to understand what the conflicts are using 'git status'. This will show which files have conflict issues.\n",
    "\n",
    "**Changes to same file**\n",
    "\n",
    "For changes affecting the same file, git will add markers to indicate where the conflict occurs. The conflict is enclosed in a \"<<<<<<< HEAD\" and \">>>>>>> [other/branch/name]\", and the differences are separated by a line \"=======\" (where the local comes first, then the remote (or master, then feature)). You then need to go to this file and resolve the conflict. Once you have finished editing this conflict, you can let git know by staging it, using 'git add [filename]'.\n",
    "\n",
    "Alternatively, if you just want to keep one of the files (i.e. just want the remote version of the file and discard local, or vice versa), you can do this easily as well.\n",
    "\n",
    "**Deleted in one and edited in another**\n",
    "\n",
    "If a file has been deleted locally but has been modified in remote, you must either:\n",
    "- decide to keep the file as deleted when merging\n",
    "- decide to keep the modified file in remote (or 'feature' in local context), possibly making additional changes\n",
    "\n",
    "**Both added a file with the same name**\n",
    "\n",
    "Similar to changes to same file, need to reconcile, or just just choose one of them.\n",
    "\n",
    "**Other edges cases**\n",
    "\n",
    "- sometimes the file has been moved, so if a file seems like it disappeared make sure it hasn't just been moved\n",
    "\n",
    "Commands for these use cases are:\n"
   ],
   "cell_type": "markdown",
   "metadata": {}
  },
  {
   "cell_type": "code",
   "execution_count": null,
   "metadata": {},
   "outputs": [],
   "source": [
    "# Use case 1: changes to same file - merge files\n",
    "# first go in and resolve each conflict, marked by header\n",
    "git add [filename]\n",
    "git commit -m \"change made\"\n",
    "\n",
    "# Use case 2: changes to same file - you just want to keep one of them\n",
    "'''We have to be careful here as our and theirs depend on point of view. We will consider the 2 different cases, merges and rebases.'''\n",
    "'''=======MERGE======'''\n",
    "# merge feature into master\n",
    "git checkout master\n",
    "git merge feature # note that if pulling in remote to local, then the local is master, remote is feature\n",
    "\n",
    "git checkout --ours [filename] # keep just the file in master\n",
    "git checkout --theirs [filename] # keep just the file in the feature branch\n",
    "\n",
    "git add [filename]\n",
    "git commit -m \"change made\"\n",
    "\n",
    "'''=======REBASE====='''\n",
    "git checkout feature\n",
    "git rebase master # note that if rebasing the remote to local, then the local is feature, remote is master\n",
    "\n",
    "git checkout --ours [filename] # keep just the file in master\n",
    "git checkout --theirs [filename] # keep just the file in the feature branch\n",
    "\n",
    "git add [filename]\n",
    "git commit -m \"change made\"\n",
    "\n",
    "# Use case 3: deleted and edited file (choose either delete or add)\n",
    "git rm [filename] # if decide to delete\n",
    "git add [filename] # if decide to add file\n",
    "git commit -m \"change made\""
   ]
  },
  {
   "source": [
    "## 13. Git - Rewriting history\n",
    "\n",
    "See link: https://git-scm.com/book/en/v2/Git-Tools-Rewriting-History\n",
    "\n",
    "** Changing last commit**"
   ],
   "cell_type": "markdown",
   "metadata": {}
  },
  {
   "cell_type": "code",
   "execution_count": null,
   "metadata": {},
   "outputs": [],
   "source": [
    "# Use case 1: just edit commit message\n",
    "git commit --amend # loads up editor for you to edit the previous commit message - content stays same\n",
    "\n",
    "# Use case 2: edit commit message and content\n",
    "# first make changes you want to make, then:\n",
    "git commit --ammend # this affects the SHA-1 of the commit, so don't do this if already pushed commit"
   ]
  },
  {
   "source": [
    "**Changing multiple commit messages**\n",
    "\n",
    "A git rebase is used, with interactive option. This will effectively rewind the last few commits, give you the option to play around with each commit such as reorder them, ammend what the commit does, combine commits (squash), and then it will rebase and reapply the edited commits. See example below.\n",
    "\n",
    "Note that this is a rebase, to best practice applies again. Do not do this for commits that have already been pushed pubicly that people have worked on, unless everyone knows what is happening."
   ],
   "cell_type": "markdown",
   "metadata": {}
  },
  {
   "cell_type": "code",
   "execution_count": null,
   "metadata": {},
   "outputs": [],
   "source": [
    "# Use case 1: Change last 3 commits \n",
    "git rebase -i HEAD~3 # this is a rebase interactive command, will bring up last 3 commits\n",
    "\n",
    "# example output below\n",
    "# note that commits output are in reverse order, starting from 3 commits ago\n",
    "\"\"\"example output:\n",
    "pick f7f3f6d Change my name a bit\n",
    "pick 310154e Update README formatting and add blame\n",
    "pick a5f4a0d Add cat-file\n",
    "\n",
    "# Rebase 710f0f8..a5f4a0d onto 710f0f8\n",
    "#\n",
    "# Commands:\n",
    "# p, pick <commit> = use commit\n",
    "# r, reword <commit> = use commit, but edit the commit message\n",
    "# e, edit <commit> = use commit, but stop for amending\n",
    "# s, squash <commit> = use commit, but meld into previous commit\n",
    "# f, fixup <commit> = like \"squash\", but discard this commit's log message\n",
    "# x, exec <command> = run command (the rest of the line) using shell\n",
    "# b, break = stop here (continue rebase later with 'git rebase --continue')\n",
    "# d, drop <commit> = remove commit\n",
    "# l, label <label> = label current HEAD with a name\n",
    "# t, reset <label> = reset HEAD to a label\n",
    "# m, merge [-C <commit> | -c <commit>] <label> [# <oneline>]\n",
    "# .       create a merge commit using the original merge commit's\n",
    "# .       message (or the oneline, if no original merge commit was\n",
    "# .       specified). Use -c <commit> to reword the commit message.\n",
    "#\n",
    "# These lines can be re-ordered; they are executed from top to bottom.\n",
    "#\n",
    "# If you remove a line here THAT COMMIT WILL BE LOST.\n",
    "#\n",
    "# However, if you remove everything, the rebase will be aborted.\n",
    "#\n",
    "# Note that empty commits are commented out\n",
    "\"\"\"\n",
    "\n",
    "# From here we can change 'pick' to something else.\n",
    "# For example, we can swap the 2nd and 3rd commit (reword this commit), and edit the latest\n",
    "\"\"\"example output after edit:\n",
    "pick 310154e Update README formatting and add blame\n",
    "reword f7f3f6d Change my name a bit\n",
    "edit a5f4a0d Add cat-file\n",
    "\n",
    "# Rebase 710f0f8..a5f4a0d onto 710f0f8\n",
    "#\n",
    "# Commands:\n",
    "# p, pick <commit> = use commit\n",
    "# r, reword <commit> = use commit, but edit the commit message\n",
    "# e, edit <commit> = use commit, but stop for amending\n",
    "# s, squash <commit> = use commit, but meld into previous commit\n",
    "# f, fixup <commit> = like \"squash\", but discard this commit's log message\n",
    "# x, exec <command> = run command (the rest of the line) using shell\n",
    "# b, break = stop here (continue rebase later with 'git rebase --continue')\n",
    "# d, drop <commit> = remove commit\n",
    "# l, label <label> = label current HEAD with a name\n",
    "# t, reset <label> = reset HEAD to a label\n",
    "# m, merge [-C <commit> | -c <commit>] <label> [# <oneline>]\n",
    "# .       create a merge commit using the original merge commit's\n",
    "# .       message (or the oneline, if no original merge commit was\n",
    "# .       specified). Use -c <commit> to reword the commit message.\n",
    "#\n",
    "# These lines can be re-ordered; they are executed from top to bottom.\n",
    "#\n",
    "# If you remove a line here THAT COMMIT WILL BE LOST.\n",
    "#\n",
    "# However, if you remove everything, the rebase will be aborted.\n",
    "#\n",
    "# Note that empty commits are commented out\n",
    "\"\"\""
   ]
  },
  {
   "source": [
    "A 'squash' is also one of the options in an interactive rebase, and specifying a squash for a commit will make git combine that commit with the commit preceeding it. For example, to combine all 3 commits into 1, we would do:"
   ],
   "cell_type": "markdown",
   "metadata": {}
  },
  {
   "cell_type": "code",
   "execution_count": null,
   "metadata": {},
   "outputs": [],
   "source": [
    "\"\"\"example output after edit:\n",
    "pick 310154e Update README formatting and add blame\n",
    "squash f7f3f6d Change my name a bit\n",
    "squash a5f4a0d Add cat-file\n",
    "\n",
    "# Rebase 710f0f8..a5f4a0d onto 710f0f8\n",
    "#\n",
    "# Commands:\n",
    "# p, pick <commit> = use commit\n",
    "# r, reword <commit> = use commit, but edit the commit message\n",
    "# e, edit <commit> = use commit, but stop for amending\n",
    "# s, squash <commit> = use commit, but meld into previous commit\n",
    "# f, fixup <commit> = like \"squash\", but discard this commit's log message\n",
    "# x, exec <command> = run command (the rest of the line) using shell\n",
    "# b, break = stop here (continue rebase later with 'git rebase --continue')\n",
    "# d, drop <commit> = remove commit\n",
    "# l, label <label> = label current HEAD with a name\n",
    "# t, reset <label> = reset HEAD to a label\n",
    "# m, merge [-C <commit> | -c <commit>] <label> [# <oneline>]\n",
    "# .       create a merge commit using the original merge commit's\n",
    "# .       message (or the oneline, if no original merge commit was\n",
    "# .       specified). Use -c <commit> to reword the commit message.\n",
    "#\n",
    "# These lines can be re-ordered; they are executed from top to bottom.\n",
    "#\n",
    "# If you remove a line here THAT COMMIT WILL BE LOST.\n",
    "#\n",
    "# However, if you remove everything, the rebase will be aborted.\n",
    "#\n",
    "# Note that empty commits are commented out\n",
    "\"\"\""
   ]
  },
  {
   "source": [
    "This will rewind, stop at the first commit, tell you that this is combination of 3 commits, and to give a new message for all 3 together. See below:"
   ],
   "cell_type": "markdown",
   "metadata": {}
  },
  {
   "cell_type": "code",
   "execution_count": null,
   "metadata": {},
   "outputs": [],
   "source": [
    "\"\"\"\n",
    "# This is a combination of 3 commits.\n",
    "# The first commit's message is:\n",
    "Change my name a bit\n",
    "\n",
    "# This is the 2nd commit message:\n",
    "\n",
    "Update README formatting and add blame\n",
    "\n",
    "# This is the 3rd commit message:\n",
    "\n",
    "Add cat-file\n",
    "\"\"\""
   ]
  },
  {
   "source": [
    "**Nuclear option - removing files from entire git history**\n",
    "\n",
    "This is to be used with caution, as it will overwrite the entire git history permanently. Always back up git before following these steps. See link here to use BFG for cleaining up repo.\n",
    "https://rtyley.github.io/bfg-repo-cleaner/\n",
    "\n",
    "\n",
    "https://fabianlee.org/2019/03/24/git-bfg-for-removing-secrets-from-entire-git-history/"
   ],
   "cell_type": "markdown",
   "metadata": {}
  },
  {
   "source": [
    "## 14. More Git Workflows\n",
    "\n",
    "See this page for more about git workflow.\n",
    "\n",
    "https://www.atlassian.com/git/tutorials/comparing-workflows\n",
    "\n"
   ],
   "cell_type": "markdown",
   "metadata": {}
  },
  {
   "cell_type": "code",
   "execution_count": null,
   "metadata": {},
   "outputs": [],
   "source": []
  }
 ]
}